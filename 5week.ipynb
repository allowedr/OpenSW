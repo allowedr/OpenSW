{
  "cells": [
    {
      "cell_type": "code",
      "execution_count": 2,
      "metadata": {
        "colab": {
          "base_uri": "https://localhost:8080/"
        },
        "id": "lIYdn1woOS1n",
        "outputId": "4c6fec5d-a19a-41c0-c0ee-34bfaaf395a6"
      },
      "outputs": [
        {
          "output_type": "execute_result",
          "data": {
            "text/plain": [
              "4"
            ]
          },
          "metadata": {},
          "execution_count": 2
        }
      ],
      "source": [
        "s = 'café'\n",
        "len(s)"
      ]
    },
    {
      "cell_type": "code",
      "source": [
        "b = s.encode('utf8')\n",
        "b"
      ],
      "metadata": {
        "id": "gCY5WYsJLUZ_",
        "outputId": "a0e3c33e-b73d-468c-adda-49eeadefcafb",
        "colab": {
          "base_uri": "https://localhost:8080/"
        }
      },
      "execution_count": 3,
      "outputs": [
        {
          "output_type": "execute_result",
          "data": {
            "text/plain": [
              "b'caf\\xc3\\xa9'"
            ]
          },
          "metadata": {},
          "execution_count": 3
        }
      ]
    },
    {
      "cell_type": "code",
      "source": [
        "len(b)"
      ],
      "metadata": {
        "id": "WFg0P2o2LXVl",
        "outputId": "bde23e01-661c-4820-c647-a18b1d91e83a",
        "colab": {
          "base_uri": "https://localhost:8080/"
        }
      },
      "execution_count": 4,
      "outputs": [
        {
          "output_type": "execute_result",
          "data": {
            "text/plain": [
              "5"
            ]
          },
          "metadata": {},
          "execution_count": 4
        }
      ]
    },
    {
      "cell_type": "code",
      "source": [
        "b.decode('utf8')"
      ],
      "metadata": {
        "id": "vPsjEsurLYkF",
        "outputId": "8a44651e-5520-4c20-ba9f-9a6a3fe7d5b7",
        "colab": {
          "base_uri": "https://localhost:8080/",
          "height": 35
        }
      },
      "execution_count": 5,
      "outputs": [
        {
          "output_type": "execute_result",
          "data": {
            "text/plain": [
              "'café'"
            ],
            "application/vnd.google.colaboratory.intrinsic+json": {
              "type": "string"
            }
          },
          "metadata": {},
          "execution_count": 5
        }
      ]
    },
    {
      "cell_type": "code",
      "source": [
        "#예제2\n",
        "cafe = bytes('café', encoding='utf_8')\n",
        "cafe"
      ],
      "metadata": {
        "id": "El4KyWWFLcCM",
        "outputId": "c49c796f-497c-49f9-8bd5-b2f7c5307f01",
        "colab": {
          "base_uri": "https://localhost:8080/"
        }
      },
      "execution_count": 6,
      "outputs": [
        {
          "output_type": "execute_result",
          "data": {
            "text/plain": [
              "b'caf\\xc3\\xa9'"
            ]
          },
          "metadata": {},
          "execution_count": 6
        }
      ]
    },
    {
      "cell_type": "code",
      "source": [
        "cafe[0] # 각 항목은 range(256)에 들어가는 정수이다."
      ],
      "metadata": {
        "id": "F7kcTvgMLjDI",
        "outputId": "117e6aff-74c7-4301-865d-b957d49f6acf",
        "colab": {
          "base_uri": "https://localhost:8080/"
        }
      },
      "execution_count": 7,
      "outputs": [
        {
          "output_type": "execute_result",
          "data": {
            "text/plain": [
              "99"
            ]
          },
          "metadata": {},
          "execution_count": 7
        }
      ]
    },
    {
      "cell_type": "code",
      "source": [
        "cafe[:1] # bytes는 슬라이싱해도 bytes이다. 슬라이스가 한 바이트일 때도 마찬가지다."
      ],
      "metadata": {
        "id": "UDG2GdiQLnOE",
        "outputId": "8841360e-d1ef-4870-fcdc-465a07be261c",
        "colab": {
          "base_uri": "https://localhost:8080/"
        }
      },
      "execution_count": 8,
      "outputs": [
        {
          "output_type": "execute_result",
          "data": {
            "text/plain": [
              "b'c'"
            ]
          },
          "metadata": {},
          "execution_count": 8
        }
      ]
    },
    {
      "cell_type": "code",
      "source": [
        "cafe_arr = bytearray(cafe)\n",
        "cafe_arr"
      ],
      "metadata": {
        "id": "apWzdU-PLuHn",
        "outputId": "03daa44d-eb70-4b1d-9be3-00093118d615",
        "colab": {
          "base_uri": "https://localhost:8080/"
        }
      },
      "execution_count": 9,
      "outputs": [
        {
          "output_type": "execute_result",
          "data": {
            "text/plain": [
              "bytearray(b'caf\\xc3\\xa9')"
            ]
          },
          "metadata": {},
          "execution_count": 9
        }
      ]
    },
    {
      "cell_type": "code",
      "source": [
        "cafe_arr[-1:]"
      ],
      "metadata": {
        "id": "F9s4bla3Lykh",
        "outputId": "45481437-5ef2-490a-976e-0d4a8129f3e7",
        "colab": {
          "base_uri": "https://localhost:8080/"
        }
      },
      "execution_count": 10,
      "outputs": [
        {
          "output_type": "execute_result",
          "data": {
            "text/plain": [
              "bytearray(b'\\xa9')"
            ]
          },
          "metadata": {},
          "execution_count": 10
        }
      ]
    },
    {
      "cell_type": "code",
      "source": [
        "#예제3\n",
        "bytes.fromhex('31 4B CE A9')"
      ],
      "metadata": {
        "id": "M-MKA7BbL2Ae",
        "outputId": "aa2a7e1c-2d83-470f-9f4b-d8734dbcc906",
        "colab": {
          "base_uri": "https://localhost:8080/"
        }
      },
      "execution_count": 11,
      "outputs": [
        {
          "output_type": "execute_result",
          "data": {
            "text/plain": [
              "b'1K\\xce\\xa9'"
            ]
          },
          "metadata": {},
          "execution_count": 11
        }
      ]
    },
    {
      "cell_type": "code",
      "source": [
        "#예제 4\n",
        "import array\n",
        "\n",
        "numbers = array.array('h', [-2, -1, 0,1,2])\n",
        "\n",
        "numbers"
      ],
      "metadata": {
        "id": "tYnfWNXuL6zD",
        "outputId": "3270c966-8a84-4d07-83cf-b832420d6797",
        "colab": {
          "base_uri": "https://localhost:8080/"
        }
      },
      "execution_count": 12,
      "outputs": [
        {
          "output_type": "execute_result",
          "data": {
            "text/plain": [
              "array('h', [-2, -1, 0, 1, 2])"
            ]
          },
          "metadata": {},
          "execution_count": 12
        }
      ]
    },
    {
      "cell_type": "code",
      "source": [
        "octets = bytes(numbers)\n",
        "octets"
      ],
      "metadata": {
        "id": "S9B7X_m4MBuQ",
        "outputId": "bbe36f0c-53e9-4f19-8050-f09b25fb619f",
        "colab": {
          "base_uri": "https://localhost:8080/"
        }
      },
      "execution_count": 13,
      "outputs": [
        {
          "output_type": "execute_result",
          "data": {
            "text/plain": [
              "b'\\xfe\\xff\\xff\\xff\\x00\\x00\\x01\\x00\\x02\\x00'"
            ]
          },
          "metadata": {},
          "execution_count": 13
        }
      ]
    },
    {
      "cell_type": "code",
      "source": [
        "#예제5\n",
        "import struct\n",
        "\n",
        "fmt = '<3s3sHH'\n",
        "\n",
        "with open('./simpsons.gif', 'rb') as fp:\n",
        "    img = memoryview(fp.read())\n",
        "\n",
        "header = img[:10]\n",
        "bytes"
      ],
      "metadata": {
        "id": "ngtpibLIMFoH",
        "outputId": "220cc02c-e399-4600-85ec-699d07377ca6",
        "colab": {
          "base_uri": "https://localhost:8080/"
        }
      },
      "execution_count": 14,
      "outputs": [
        {
          "output_type": "execute_result",
          "data": {
            "text/plain": [
              "bytes"
            ]
          },
          "metadata": {},
          "execution_count": 14
        }
      ]
    },
    {
      "cell_type": "code",
      "source": [
        "struct.unpack(fmt, header)"
      ],
      "metadata": {
        "id": "3Zyk8fKFMj1J",
        "outputId": "a1af5208-19b1-4305-ae00-bef814779dfd",
        "colab": {
          "base_uri": "https://localhost:8080/"
        }
      },
      "execution_count": 15,
      "outputs": [
        {
          "output_type": "execute_result",
          "data": {
            "text/plain": [
              "(b'GIF', b'89a', 499, 363)"
            ]
          },
          "metadata": {},
          "execution_count": 15
        }
      ]
    },
    {
      "cell_type": "code",
      "source": [
        "del header\n",
        "del img"
      ],
      "metadata": {
        "id": "AcBl7Vp5MngJ"
      },
      "execution_count": 16,
      "outputs": []
    },
    {
      "cell_type": "code",
      "source": [
        "#예제6\n",
        "for codec in ['latin_1', 'utf_8', 'utf_16']:\n",
        "    print(codec, 'El Niño'.encode(codec), sep='\\t')"
      ],
      "metadata": {
        "id": "TdgpU86ZM2yY",
        "outputId": "92deae29-2d28-4fef-f973-f8d0cc4ef61e",
        "colab": {
          "base_uri": "https://localhost:8080/"
        }
      },
      "execution_count": 17,
      "outputs": [
        {
          "output_type": "stream",
          "name": "stdout",
          "text": [
            "latin_1\tb'El Ni\\xf1o'\n",
            "utf_8\tb'El Ni\\xc3\\xb1o'\n",
            "utf_16\tb'\\xff\\xfeE\\x00l\\x00 \\x00N\\x00i\\x00\\xf1\\x00o\\x00'\n"
          ]
        }
      ]
    },
    {
      "cell_type": "code",
      "source": [
        "for codec in ['ascii', 'latin_1', 'cp1252','cp437', 'utf_8', 'utf_16le', 'gb2312']:\n",
        "    print(codec, 'A'.encode(codec), sep='\\t')"
      ],
      "metadata": {
        "id": "_xlFaUsLNLJt",
        "outputId": "3e6d5611-e1eb-4962-cf7b-9c12c4338035",
        "colab": {
          "base_uri": "https://localhost:8080/"
        }
      },
      "execution_count": 20,
      "outputs": [
        {
          "output_type": "stream",
          "name": "stdout",
          "text": [
            "ascii\tb'A'\n",
            "latin_1\tb'A'\n",
            "cp1252\tb'A'\n",
            "cp437\tb'A'\n",
            "utf_8\tb'A'\n",
            "utf_16le\tb'A\\x00'\n",
            "gb2312\tb'A'\n"
          ]
        }
      ]
    },
    {
      "cell_type": "code",
      "source": [
        "#예제7\n",
        "city= 'São Paulo'\n",
        "city.encode('utf-8')"
      ],
      "metadata": {
        "id": "OpZhTG49NkYr",
        "outputId": "69ee31eb-fde6-403c-fda5-68e9f5d814dd",
        "colab": {
          "base_uri": "https://localhost:8080/"
        }
      },
      "execution_count": 21,
      "outputs": [
        {
          "output_type": "execute_result",
          "data": {
            "text/plain": [
              "b'S\\xc3\\xa3o Paulo'"
            ]
          },
          "metadata": {},
          "execution_count": 21
        }
      ]
    },
    {
      "cell_type": "code",
      "source": [
        "city.encode('utf_16')"
      ],
      "metadata": {
        "id": "1C4Ifd6gNtGG",
        "outputId": "90ce266c-95b7-4b59-c5fe-394933946dd9",
        "colab": {
          "base_uri": "https://localhost:8080/"
        }
      },
      "execution_count": 22,
      "outputs": [
        {
          "output_type": "execute_result",
          "data": {
            "text/plain": [
              "b'\\xff\\xfeS\\x00\\xe3\\x00o\\x00 \\x00P\\x00a\\x00u\\x00l\\x00o\\x00'"
            ]
          },
          "metadata": {},
          "execution_count": 22
        }
      ]
    },
    {
      "cell_type": "code",
      "source": [
        "city.encode('iso8859_1')"
      ],
      "metadata": {
        "id": "iu19JBJuNvvq",
        "outputId": "a0b047aa-4bd0-405e-9aef-06c6f4164adb",
        "colab": {
          "base_uri": "https://localhost:8080/"
        }
      },
      "execution_count": 23,
      "outputs": [
        {
          "output_type": "execute_result",
          "data": {
            "text/plain": [
              "b'S\\xe3o Paulo'"
            ]
          },
          "metadata": {},
          "execution_count": 23
        }
      ]
    },
    {
      "cell_type": "code",
      "source": [
        "city.encode('cp437')"
      ],
      "metadata": {
        "id": "7Ny_uQlZN_A5",
        "outputId": "6d6be687-837c-4aab-be3f-cdf11cb33e44",
        "colab": {
          "base_uri": "https://localhost:8080/",
          "height": 292
        }
      },
      "execution_count": 24,
      "outputs": [
        {
          "output_type": "error",
          "ename": "UnicodeEncodeError",
          "evalue": "'charmap' codec can't encode character '\\xe3' in position 1: character maps to <undefined>",
          "traceback": [
            "\u001b[0;31m---------------------------------------------------------------------------\u001b[0m",
            "\u001b[0;31mUnicodeEncodeError\u001b[0m                        Traceback (most recent call last)",
            "\u001b[0;32m<ipython-input-24-064a572fd5b6>\u001b[0m in \u001b[0;36m<cell line: 1>\u001b[0;34m()\u001b[0m\n\u001b[0;32m----> 1\u001b[0;31m \u001b[0mcity\u001b[0m\u001b[0;34m.\u001b[0m\u001b[0mencode\u001b[0m\u001b[0;34m(\u001b[0m\u001b[0;34m'cp437'\u001b[0m\u001b[0;34m)\u001b[0m\u001b[0;34m\u001b[0m\u001b[0;34m\u001b[0m\u001b[0m\n\u001b[0m",
            "\u001b[0;32m/usr/lib/python3.10/encodings/cp437.py\u001b[0m in \u001b[0;36mencode\u001b[0;34m(self, input, errors)\u001b[0m\n\u001b[1;32m     10\u001b[0m \u001b[0;34m\u001b[0m\u001b[0m\n\u001b[1;32m     11\u001b[0m     \u001b[0;32mdef\u001b[0m \u001b[0mencode\u001b[0m\u001b[0;34m(\u001b[0m\u001b[0mself\u001b[0m\u001b[0;34m,\u001b[0m\u001b[0minput\u001b[0m\u001b[0;34m,\u001b[0m\u001b[0merrors\u001b[0m\u001b[0;34m=\u001b[0m\u001b[0;34m'strict'\u001b[0m\u001b[0;34m)\u001b[0m\u001b[0;34m:\u001b[0m\u001b[0;34m\u001b[0m\u001b[0;34m\u001b[0m\u001b[0m\n\u001b[0;32m---> 12\u001b[0;31m         \u001b[0;32mreturn\u001b[0m \u001b[0mcodecs\u001b[0m\u001b[0;34m.\u001b[0m\u001b[0mcharmap_encode\u001b[0m\u001b[0;34m(\u001b[0m\u001b[0minput\u001b[0m\u001b[0;34m,\u001b[0m\u001b[0merrors\u001b[0m\u001b[0;34m,\u001b[0m\u001b[0mencoding_map\u001b[0m\u001b[0;34m)\u001b[0m\u001b[0;34m\u001b[0m\u001b[0;34m\u001b[0m\u001b[0m\n\u001b[0m\u001b[1;32m     13\u001b[0m \u001b[0;34m\u001b[0m\u001b[0m\n\u001b[1;32m     14\u001b[0m     \u001b[0;32mdef\u001b[0m \u001b[0mdecode\u001b[0m\u001b[0;34m(\u001b[0m\u001b[0mself\u001b[0m\u001b[0;34m,\u001b[0m\u001b[0minput\u001b[0m\u001b[0;34m,\u001b[0m\u001b[0merrors\u001b[0m\u001b[0;34m=\u001b[0m\u001b[0;34m'strict'\u001b[0m\u001b[0;34m)\u001b[0m\u001b[0;34m:\u001b[0m\u001b[0;34m\u001b[0m\u001b[0;34m\u001b[0m\u001b[0m\n",
            "\u001b[0;31mUnicodeEncodeError\u001b[0m: 'charmap' codec can't encode character '\\xe3' in position 1: character maps to <undefined>"
          ]
        }
      ]
    },
    {
      "cell_type": "code",
      "source": [
        "city.encode('cp437', errors='ignore')"
      ],
      "metadata": {
        "id": "jX6hvCASOC1r",
        "outputId": "c8cf41ff-28e1-4c12-f753-e0ea8ab01ddd",
        "colab": {
          "base_uri": "https://localhost:8080/"
        }
      },
      "execution_count": 26,
      "outputs": [
        {
          "output_type": "execute_result",
          "data": {
            "text/plain": [
              "b'So Paulo'"
            ]
          },
          "metadata": {},
          "execution_count": 26
        }
      ]
    },
    {
      "cell_type": "code",
      "source": [
        "city.encode('cp437', errors='replace')"
      ],
      "metadata": {
        "id": "J0t2zDelOKF7",
        "outputId": "0970b8ca-b86d-4a9f-e0c6-db47a4560a8d",
        "colab": {
          "base_uri": "https://localhost:8080/"
        }
      },
      "execution_count": 27,
      "outputs": [
        {
          "output_type": "execute_result",
          "data": {
            "text/plain": [
              "b'S?o Paulo'"
            ]
          },
          "metadata": {},
          "execution_count": 27
        }
      ]
    },
    {
      "cell_type": "code",
      "source": [
        "city.encode('cp437', errors='xmlcharrefreplace')"
      ],
      "metadata": {
        "id": "naRoDdEeOLnB",
        "outputId": "0f876553-60c7-4cc3-b09e-fb94d9ba64bd",
        "colab": {
          "base_uri": "https://localhost:8080/"
        }
      },
      "execution_count": 28,
      "outputs": [
        {
          "output_type": "execute_result",
          "data": {
            "text/plain": [
              "b'S&#227;o Paulo'"
            ]
          },
          "metadata": {},
          "execution_count": 28
        }
      ]
    },
    {
      "cell_type": "code",
      "source": [
        "octets = b'Montr\\xe9al'\n",
        "octets.decode('cp1252')"
      ],
      "metadata": {
        "id": "HvavVvHEOM-4",
        "outputId": "0a9d346c-9d50-4a8d-f28b-497b1eb4a486",
        "colab": {
          "base_uri": "https://localhost:8080/",
          "height": 35
        }
      },
      "execution_count": 29,
      "outputs": [
        {
          "output_type": "execute_result",
          "data": {
            "text/plain": [
              "'Montréal'"
            ],
            "application/vnd.google.colaboratory.intrinsic+json": {
              "type": "string"
            }
          },
          "metadata": {},
          "execution_count": 29
        }
      ]
    },
    {
      "cell_type": "code",
      "source": [
        "octets.decode('iso8859_7')"
      ],
      "metadata": {
        "id": "Z4AfDygMOV2x",
        "outputId": "33a7b967-794c-40c5-f65a-eced30e5d66d",
        "colab": {
          "base_uri": "https://localhost:8080/",
          "height": 35
        }
      },
      "execution_count": 30,
      "outputs": [
        {
          "output_type": "execute_result",
          "data": {
            "text/plain": [
              "'Montrιal'"
            ],
            "application/vnd.google.colaboratory.intrinsic+json": {
              "type": "string"
            }
          },
          "metadata": {},
          "execution_count": 30
        }
      ]
    },
    {
      "cell_type": "code",
      "source": [
        "octets.decode('koi8_r')"
      ],
      "metadata": {
        "id": "Wn8aR5D4OY3q",
        "outputId": "4d5ebcfd-f6eb-4763-97d3-f0cdc01ec9a0",
        "colab": {
          "base_uri": "https://localhost:8080/",
          "height": 35
        }
      },
      "execution_count": 31,
      "outputs": [
        {
          "output_type": "execute_result",
          "data": {
            "text/plain": [
              "'MontrИal'"
            ],
            "application/vnd.google.colaboratory.intrinsic+json": {
              "type": "string"
            }
          },
          "metadata": {},
          "execution_count": 31
        }
      ]
    },
    {
      "cell_type": "code",
      "source": [
        "octets.decode('utf9')"
      ],
      "metadata": {
        "id": "O_CqLg_POfmc",
        "outputId": "a63c9777-990b-4f5a-f1dc-affed96206d3",
        "colab": {
          "base_uri": "https://localhost:8080/",
          "height": 146
        }
      },
      "execution_count": 32,
      "outputs": [
        {
          "output_type": "error",
          "ename": "LookupError",
          "evalue": "unknown encoding: utf9",
          "traceback": [
            "\u001b[0;31m---------------------------------------------------------------------------\u001b[0m",
            "\u001b[0;31mLookupError\u001b[0m                               Traceback (most recent call last)",
            "\u001b[0;32m<ipython-input-32-07c1ce0dec07>\u001b[0m in \u001b[0;36m<cell line: 1>\u001b[0;34m()\u001b[0m\n\u001b[0;32m----> 1\u001b[0;31m \u001b[0moctets\u001b[0m\u001b[0;34m.\u001b[0m\u001b[0mdecode\u001b[0m\u001b[0;34m(\u001b[0m\u001b[0;34m'utf9'\u001b[0m\u001b[0;34m)\u001b[0m\u001b[0;34m\u001b[0m\u001b[0;34m\u001b[0m\u001b[0m\n\u001b[0m",
            "\u001b[0;31mLookupError\u001b[0m: unknown encoding: utf9"
          ]
        }
      ]
    },
    {
      "cell_type": "code",
      "source": [
        "octets.decode('utf8', errors='replace')"
      ],
      "metadata": {
        "id": "s1p28LdWOiio",
        "outputId": "f3b83235-0713-451e-97de-6057a017beb8",
        "colab": {
          "base_uri": "https://localhost:8080/",
          "height": 35
        }
      },
      "execution_count": 33,
      "outputs": [
        {
          "output_type": "execute_result",
          "data": {
            "text/plain": [
              "'Montr�al'"
            ],
            "application/vnd.google.colaboratory.intrinsic+json": {
              "type": "string"
            }
          },
          "metadata": {},
          "execution_count": 33
        }
      ]
    },
    {
      "cell_type": "code",
      "source": [
        "'é'.encode('utf8')"
      ],
      "metadata": {
        "id": "3O9lGCCVOmlJ",
        "outputId": "04049d19-b097-4e98-8cfb-a30a2bdf5d5c",
        "colab": {
          "base_uri": "https://localhost:8080/"
        }
      },
      "execution_count": 35,
      "outputs": [
        {
          "output_type": "execute_result",
          "data": {
            "text/plain": [
              "b'\\xc3\\xa9'"
            ]
          },
          "metadata": {},
          "execution_count": 35
        }
      ]
    },
    {
      "cell_type": "code",
      "source": [
        "#예제9\n",
        "u16 = 'El Niño'.encode('utf_16')\n",
        "u16"
      ],
      "metadata": {
        "id": "6N-Oger-OxCS",
        "outputId": "71b1d7d7-21a6-43d1-a7da-2c5d9759d44b",
        "colab": {
          "base_uri": "https://localhost:8080/"
        }
      },
      "execution_count": 36,
      "outputs": [
        {
          "output_type": "execute_result",
          "data": {
            "text/plain": [
              "b'\\xff\\xfeE\\x00l\\x00 \\x00N\\x00i\\x00\\xf1\\x00o\\x00'"
            ]
          },
          "metadata": {},
          "execution_count": 36
        }
      ]
    },
    {
      "cell_type": "code",
      "source": [
        "list(u16)"
      ],
      "metadata": {
        "id": "Aq_xAdkVOz4-",
        "outputId": "7a5ba309-7e44-4ca0-e89d-4d1f6fa21892",
        "colab": {
          "base_uri": "https://localhost:8080/"
        }
      },
      "execution_count": 37,
      "outputs": [
        {
          "output_type": "execute_result",
          "data": {
            "text/plain": [
              "[255, 254, 69, 0, 108, 0, 32, 0, 78, 0, 105, 0, 241, 0, 111, 0]"
            ]
          },
          "metadata": {},
          "execution_count": 37
        }
      ]
    },
    {
      "cell_type": "code",
      "source": [
        "u16le = 'El Niño'.encode('utf_16le')\n",
        "list(u16le)"
      ],
      "metadata": {
        "id": "FlYi-QfoO1qL",
        "outputId": "17ac92f7-b776-402f-b7cd-988384170784",
        "colab": {
          "base_uri": "https://localhost:8080/"
        }
      },
      "execution_count": 38,
      "outputs": [
        {
          "output_type": "execute_result",
          "data": {
            "text/plain": [
              "[69, 0, 108, 0, 32, 0, 78, 0, 105, 0, 241, 0, 111, 0]"
            ]
          },
          "metadata": {},
          "execution_count": 38
        }
      ]
    },
    {
      "cell_type": "code",
      "source": [
        "u16be = 'El Niño'.encode('utf_16be')\n",
        "list(u16be)"
      ],
      "metadata": {
        "id": "5rDSYOLKO6Rv",
        "outputId": "2715d9c1-327d-4da3-a393-0163893061d9",
        "colab": {
          "base_uri": "https://localhost:8080/"
        }
      },
      "execution_count": 40,
      "outputs": [
        {
          "output_type": "execute_result",
          "data": {
            "text/plain": [
              "[0, 69, 0, 108, 0, 32, 0, 78, 0, 105, 0, 241, 0, 111]"
            ]
          },
          "metadata": {},
          "execution_count": 40
        }
      ]
    }
  ],
  "metadata": {
    "colab": {
      "name": "scratchpad",
      "provenance": []
    },
    "kernelspec": {
      "display_name": "Python 3",
      "name": "python3"
    }
  },
  "nbformat": 4,
  "nbformat_minor": 0
}