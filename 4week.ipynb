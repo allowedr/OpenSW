{
  "nbformat": 4,
  "nbformat_minor": 0,
  "metadata": {
    "colab": {
      "provenance": []
    },
    "kernelspec": {
      "name": "python3",
      "display_name": "Python 3"
    },
    "language_info": {
      "name": "python"
    }
  },
  "cells": [
    {
      "cell_type": "markdown",
      "source": [
        "예제 1.지능형 딕셔너리 예제"
      ],
      "metadata": {
        "id": "qRWFoScXu-iF"
      }
    },
    {
      "cell_type": "code",
      "execution_count": 32,
      "metadata": {
        "id": "BTUwkDh0un8E"
      },
      "outputs": [],
      "source": [
        "DIAL_CODES = [\n",
        "    (86, 'China'),\n",
        "    (91, 'India'),\n",
        "    (1, 'United States'),\n",
        "    (55, 'Brazil'),\n",
        "    (7, 'Russia'),\n",
        "]"
      ]
    },
    {
      "cell_type": "code",
      "source": [
        "country_code = {country: code for code, country in DIAL_CODES}\n",
        "country_code"
      ],
      "metadata": {
        "colab": {
          "base_uri": "https://localhost:8080/"
        },
        "id": "KdDPbkwPvBYE",
        "outputId": "850c66df-9a63-440b-b618-85c8d1cb2b04"
      },
      "execution_count": 33,
      "outputs": [
        {
          "output_type": "execute_result",
          "data": {
            "text/plain": [
              "{'China': 86, 'India': 91, 'United States': 1, 'Brazil': 55, 'Russia': 7}"
            ]
          },
          "metadata": {},
          "execution_count": 33
        }
      ]
    },
    {
      "cell_type": "code",
      "source": [
        "{code: country.upper() for country, code in country_code.items()\n",
        "    if code < 66}"
      ],
      "metadata": {
        "colab": {
          "base_uri": "https://localhost:8080/"
        },
        "id": "5zl8JVVZvLhR",
        "outputId": "e11c1049-74b0-416c-99a0-03ca81796efa"
      },
      "execution_count": 34,
      "outputs": [
        {
          "output_type": "execute_result",
          "data": {
            "text/plain": [
              "{1: 'UNITED STATES', 55: 'BRAZIL', 7: 'RUSSIA'}"
            ]
          },
          "metadata": {},
          "execution_count": 34
        }
      ]
    },
    {
      "cell_type": "markdown",
      "source": [
        "예제 2.dict.get()을 이용해서 인덱스에서 발생한 단어 목록을 가져와서 갱신하는 예제"
      ],
      "metadata": {
        "id": "W4nBiucevXU8"
      }
    },
    {
      "cell_type": "code",
      "source": [
        "\"\"\" 단어가 나타나는 위치를 가리키는 인덱스를 만든다.\"\"\"\n",
        "\n",
        "import sys, re\n",
        "\n",
        "WORD_RE = re.compile(r'\\w+')\n",
        "index = {}\n",
        "\n",
        "with open(\"sejong.txt\", encoding='utf-8') as fp:\n",
        "    for line_no, line in enumerate(fp, 1):\n",
        "        for match in WORD_RE.finditer(line):\n",
        "            word = match.group()\n",
        "            column_no = match.start()+1\n",
        "            location = (line_no, column_no)\n",
        "            occurence = index.get(word, [])\n",
        "            occurence.append(location)\n",
        "            index[word] = occurence\n",
        "\n",
        "for word in sorted(index, key=str.upper) :\n",
        "    print(word, index[word])"
      ],
      "metadata": {
        "colab": {
          "base_uri": "https://localhost:8080/"
        },
        "id": "mT9XWko2vXF6",
        "outputId": "2bd3768c-b0bc-4fe4-994b-2e928fb509f9"
      },
      "execution_count": 36,
      "outputs": [
        {
          "output_type": "stream",
          "name": "stdout",
          "text": [
            "1 [(3, 447)]\n",
            "1397 [(1, 39)]\n",
            "1418 [(3, 118)]\n",
            "1422 [(3, 441)]\n",
            "1439 [(7, 6)]\n",
            "1450 [(1, 55), (7, 123)]\n",
            "15 [(1, 32)]\n",
            "2 [(5, 168)]\n",
            "3 [(5, 171)]\n",
            "30 [(1, 46)]\n",
            "4 [(5, 479)]\n",
            "5 [(5, 482)]\n",
            "6 [(7, 39)]\n",
            "a [(3, 184), (5, 339)]\n",
            "abdicated [(3, 224)]\n",
            "absolute [(3, 359)]\n",
            "acted [(7, 85)]\n",
            "advancements [(5, 185)]\n",
            "alphabet [(1, 316), (5, 158)]\n",
            "also [(5, 431)]\n",
            "amendments [(5, 88)]\n",
            "and [(1, 260), (3, 94), (3, 378), (3, 398), (5, 36), (5, 64), (5, 131), (5, 209), (5, 225), (5, 323), (7, 42)]\n",
            "areas [(5, 421)]\n",
            "as [(1, 107), (1, 211), (1, 278), (3, 167), (7, 91)]\n",
            "became [(7, 15)]\n",
            "brother [(3, 151)]\n",
            "campaigns [(5, 300)]\n",
            "Chungnyeong [(3, 31)]\n",
            "commonly [(1, 92)]\n",
            "Confucian [(5, 26), (5, 44)]\n",
            "conquered [(5, 411)]\n",
            "continued [(3, 402)]\n",
            "created [(5, 123)]\n",
            "crown [(3, 170)]\n",
            "Crown [(7, 62)]\n",
            "death [(3, 432)]\n",
            "died [(7, 109)]\n",
            "dynasty [(1, 178)]\n",
            "early [(3, 271)]\n",
            "economic [(5, 262)]\n",
            "eldest [(3, 144), (7, 50)]\n",
            "Emeritus [(3, 307)]\n",
            "enacted [(5, 68)]\n",
            "encouraged [(5, 174)]\n",
            "establishing [(5, 373)]\n",
            "executive [(3, 368)]\n",
            "favor [(3, 257)]\n",
            "few [(3, 186)]\n",
            "fourth [(1, 149)]\n",
            "From [(7, 1)]\n",
            "govern [(3, 415)]\n",
            "Grand [(3, 18)]\n",
            "Great [(1, 121)]\n",
            "greatest [(1, 225)]\n",
            "growth [(5, 271)]\n",
            "Hangul [(1, 297)]\n",
            "Hanja [(1, 21)]\n",
            "He [(1, 196), (5, 109), (5, 279), (5, 428)]\n",
            "he [(3, 57), (7, 12)]\n",
            "his [(3, 140), (3, 428), (7, 46)]\n",
            "history [(1, 251)]\n",
            "Hyang [(7, 78)]\n",
            "ill [(7, 35)]\n",
            "implemented [(5, 327)]\n",
            "in [(1, 241), (3, 245), (3, 438), (5, 198), (5, 398)]\n",
            "In [(3, 115), (3, 264)]\n",
            "increasingly [(7, 22)]\n",
            "Initially [(3, 1)]\n",
            "introduced [(5, 229)]\n",
            "inventor [(1, 285)]\n",
            "is [(1, 199), (1, 264)]\n",
            "island [(5, 471)]\n",
            "Je [(3, 163)]\n",
            "Joseon [(1, 171)]\n",
            "King [(3, 81), (3, 302)]\n",
            "known [(1, 101)]\n",
            "Korea [(1, 189)]\n",
            "Korean [(1, 9), (1, 244), (1, 332), (5, 19), (5, 151)]\n",
            "language [(1, 339)]\n",
            "later [(3, 197)]\n",
            "launched [(5, 282)]\n",
            "legal [(5, 82)]\n",
            "major [(5, 76)]\n",
            "March [(1, 49), (7, 117)]\n",
            "May [(1, 35)]\n",
            "measures [(5, 240)]\n",
            "military [(3, 382), (5, 291)]\n",
            "monarch [(1, 156)]\n",
            "months [(3, 190)]\n",
            "most [(3, 346)]\n",
            "name [(1, 71)]\n",
            "native [(1, 309)]\n",
            "Neo [(5, 40)]\n",
            "newly [(5, 405)]\n",
            "north [(5, 317)]\n",
            "notably [(3, 351)]\n",
            "Occupation [(5, 448)]\n",
            "of [(1, 164), (1, 186), (1, 218), (1, 294), (1, 325), (3, 78), (3, 283), (5, 459)]\n",
            "on [(7, 114)]\n",
            "one [(1, 214)]\n",
            "ordered [(5, 436)]\n",
            "personal [(1, 62)]\n",
            "personally [(5, 112)]\n",
            "policies [(5, 54)]\n",
            "policy [(5, 352)]\n",
            "power [(3, 391)]\n",
            "powers [(3, 338)]\n",
            "Prince [(3, 24), (7, 68)]\n",
            "prince [(3, 176)]\n",
            "promulgated [(5, 135)]\n",
            "Queen [(3, 98)]\n",
            "regarded [(1, 202)]\n",
            "regent [(7, 94)]\n",
            "reign [(3, 295)]\n",
            "reinforced [(5, 8)]\n",
            "relocation [(5, 341)]\n",
            "remembered [(1, 267)]\n",
            "replaced [(3, 131)]\n",
            "retained [(3, 324)]\n",
            "rulers [(1, 234)]\n",
            "s [(3, 255), (3, 293)]\n",
            "science [(5, 201)]\n",
            "Sejong [(1, 1), (1, 110), (3, 124), (3, 248), (3, 286), (5, 1), (7, 102)]\n",
            "settlements [(5, 386)]\n",
            "son [(3, 74), (7, 57)]\n",
            "stimulate [(5, 252)]\n",
            "Taejong [(3, 86), (3, 204), (3, 316)]\n",
            "technology [(5, 213)]\n",
            "the [(1, 117), (1, 145), (1, 167), (1, 221), (1, 281), (1, 305), (1, 328), (3, 64), (3, 234), (3, 267), (5, 147), (5, 313), (5, 401), (5, 444)]\n",
            "third [(3, 68)]\n",
            "throne [(3, 238)]\n",
            "titled [(3, 11)]\n",
            "To [(1, 79)]\n",
            "to [(3, 412), (5, 249), (5, 310)]\n",
            "Tsushima [(5, 462)]\n",
            "until [(3, 422)]\n",
            "vast [(3, 333)]\n",
            "voluntarily [(3, 212)]\n",
            "was [(1, 141), (3, 60)]\n",
            "Wongyeong [(3, 104)]\n",
            "years [(3, 277)]\n",
            "Yi [(1, 76), (3, 160), (7, 75)]\n",
            "世宗 [(1, 28)]\n",
            "世宗大王 [(1, 134)]\n",
            "徙民政策 [(5, 366)]\n",
            "忠寧大君 [(3, 50)]\n",
            "李祹 [(1, 87)]\n",
            "貢法 [(5, 104)]\n",
            "공법 [(5, 100)]\n",
            "사민정책 [(5, 360)]\n",
            "세종 [(1, 17)]\n",
            "세종대왕 [(1, 128)]\n",
            "이도 [(1, 83)]\n",
            "충녕대군 [(3, 44)]\n"
          ]
        }
      ]
    },
    {
      "cell_type": "markdown",
      "source": [
        "예제 3.[예제2]와 같은 결과, dict.setdefault()사용"
      ],
      "metadata": {
        "id": "hf90Ct3YwWK5"
      }
    },
    {
      "cell_type": "code",
      "source": [
        "\"\"\" 단어가 나타나는 위치를 가리키는 인덱스를 만든다.\"\"\"\n",
        "\n",
        "import sys, re\n",
        "\n",
        "WORD_RE = re.compile(r'\\w+')\n",
        "index = {}\n",
        "\n",
        "with open(\"sejong.txt\", encoding='utf-8') as fp:\n",
        "    for line_no, line in enumerate(fp, 1):\n",
        "        for match in WORD_RE.finditer(line):\n",
        "            word = match.group()\n",
        "            column_no = match.start()+1\n",
        "            location = (line_no, column_no)\n",
        "            index.setdefault(word, []).append(location)\n",
        "\n",
        "\n",
        "for word in sorted(index, key=str.upper) :\n",
        "    print(word, index[word])"
      ],
      "metadata": {
        "colab": {
          "base_uri": "https://localhost:8080/"
        },
        "id": "3pqRWm52wV9t",
        "outputId": "a002a82c-d781-41b7-ca85-12e0c259ae7c"
      },
      "execution_count": 37,
      "outputs": [
        {
          "output_type": "stream",
          "name": "stdout",
          "text": [
            "1 [(3, 447)]\n",
            "1397 [(1, 39)]\n",
            "1418 [(3, 118)]\n",
            "1422 [(3, 441)]\n",
            "1439 [(7, 6)]\n",
            "1450 [(1, 55), (7, 123)]\n",
            "15 [(1, 32)]\n",
            "2 [(5, 168)]\n",
            "3 [(5, 171)]\n",
            "30 [(1, 46)]\n",
            "4 [(5, 479)]\n",
            "5 [(5, 482)]\n",
            "6 [(7, 39)]\n",
            "a [(3, 184), (5, 339)]\n",
            "abdicated [(3, 224)]\n",
            "absolute [(3, 359)]\n",
            "acted [(7, 85)]\n",
            "advancements [(5, 185)]\n",
            "alphabet [(1, 316), (5, 158)]\n",
            "also [(5, 431)]\n",
            "amendments [(5, 88)]\n",
            "and [(1, 260), (3, 94), (3, 378), (3, 398), (5, 36), (5, 64), (5, 131), (5, 209), (5, 225), (5, 323), (7, 42)]\n",
            "areas [(5, 421)]\n",
            "as [(1, 107), (1, 211), (1, 278), (3, 167), (7, 91)]\n",
            "became [(7, 15)]\n",
            "brother [(3, 151)]\n",
            "campaigns [(5, 300)]\n",
            "Chungnyeong [(3, 31)]\n",
            "commonly [(1, 92)]\n",
            "Confucian [(5, 26), (5, 44)]\n",
            "conquered [(5, 411)]\n",
            "continued [(3, 402)]\n",
            "created [(5, 123)]\n",
            "crown [(3, 170)]\n",
            "Crown [(7, 62)]\n",
            "death [(3, 432)]\n",
            "died [(7, 109)]\n",
            "dynasty [(1, 178)]\n",
            "early [(3, 271)]\n",
            "economic [(5, 262)]\n",
            "eldest [(3, 144), (7, 50)]\n",
            "Emeritus [(3, 307)]\n",
            "enacted [(5, 68)]\n",
            "encouraged [(5, 174)]\n",
            "establishing [(5, 373)]\n",
            "executive [(3, 368)]\n",
            "favor [(3, 257)]\n",
            "few [(3, 186)]\n",
            "fourth [(1, 149)]\n",
            "From [(7, 1)]\n",
            "govern [(3, 415)]\n",
            "Grand [(3, 18)]\n",
            "Great [(1, 121)]\n",
            "greatest [(1, 225)]\n",
            "growth [(5, 271)]\n",
            "Hangul [(1, 297)]\n",
            "Hanja [(1, 21)]\n",
            "He [(1, 196), (5, 109), (5, 279), (5, 428)]\n",
            "he [(3, 57), (7, 12)]\n",
            "his [(3, 140), (3, 428), (7, 46)]\n",
            "history [(1, 251)]\n",
            "Hyang [(7, 78)]\n",
            "ill [(7, 35)]\n",
            "implemented [(5, 327)]\n",
            "in [(1, 241), (3, 245), (3, 438), (5, 198), (5, 398)]\n",
            "In [(3, 115), (3, 264)]\n",
            "increasingly [(7, 22)]\n",
            "Initially [(3, 1)]\n",
            "introduced [(5, 229)]\n",
            "inventor [(1, 285)]\n",
            "is [(1, 199), (1, 264)]\n",
            "island [(5, 471)]\n",
            "Je [(3, 163)]\n",
            "Joseon [(1, 171)]\n",
            "King [(3, 81), (3, 302)]\n",
            "known [(1, 101)]\n",
            "Korea [(1, 189)]\n",
            "Korean [(1, 9), (1, 244), (1, 332), (5, 19), (5, 151)]\n",
            "language [(1, 339)]\n",
            "later [(3, 197)]\n",
            "launched [(5, 282)]\n",
            "legal [(5, 82)]\n",
            "major [(5, 76)]\n",
            "March [(1, 49), (7, 117)]\n",
            "May [(1, 35)]\n",
            "measures [(5, 240)]\n",
            "military [(3, 382), (5, 291)]\n",
            "monarch [(1, 156)]\n",
            "months [(3, 190)]\n",
            "most [(3, 346)]\n",
            "name [(1, 71)]\n",
            "native [(1, 309)]\n",
            "Neo [(5, 40)]\n",
            "newly [(5, 405)]\n",
            "north [(5, 317)]\n",
            "notably [(3, 351)]\n",
            "Occupation [(5, 448)]\n",
            "of [(1, 164), (1, 186), (1, 218), (1, 294), (1, 325), (3, 78), (3, 283), (5, 459)]\n",
            "on [(7, 114)]\n",
            "one [(1, 214)]\n",
            "ordered [(5, 436)]\n",
            "personal [(1, 62)]\n",
            "personally [(5, 112)]\n",
            "policies [(5, 54)]\n",
            "policy [(5, 352)]\n",
            "power [(3, 391)]\n",
            "powers [(3, 338)]\n",
            "Prince [(3, 24), (7, 68)]\n",
            "prince [(3, 176)]\n",
            "promulgated [(5, 135)]\n",
            "Queen [(3, 98)]\n",
            "regarded [(1, 202)]\n",
            "regent [(7, 94)]\n",
            "reign [(3, 295)]\n",
            "reinforced [(5, 8)]\n",
            "relocation [(5, 341)]\n",
            "remembered [(1, 267)]\n",
            "replaced [(3, 131)]\n",
            "retained [(3, 324)]\n",
            "rulers [(1, 234)]\n",
            "s [(3, 255), (3, 293)]\n",
            "science [(5, 201)]\n",
            "Sejong [(1, 1), (1, 110), (3, 124), (3, 248), (3, 286), (5, 1), (7, 102)]\n",
            "settlements [(5, 386)]\n",
            "son [(3, 74), (7, 57)]\n",
            "stimulate [(5, 252)]\n",
            "Taejong [(3, 86), (3, 204), (3, 316)]\n",
            "technology [(5, 213)]\n",
            "the [(1, 117), (1, 145), (1, 167), (1, 221), (1, 281), (1, 305), (1, 328), (3, 64), (3, 234), (3, 267), (5, 147), (5, 313), (5, 401), (5, 444)]\n",
            "third [(3, 68)]\n",
            "throne [(3, 238)]\n",
            "titled [(3, 11)]\n",
            "To [(1, 79)]\n",
            "to [(3, 412), (5, 249), (5, 310)]\n",
            "Tsushima [(5, 462)]\n",
            "until [(3, 422)]\n",
            "vast [(3, 333)]\n",
            "voluntarily [(3, 212)]\n",
            "was [(1, 141), (3, 60)]\n",
            "Wongyeong [(3, 104)]\n",
            "years [(3, 277)]\n",
            "Yi [(1, 76), (3, 160), (7, 75)]\n",
            "世宗 [(1, 28)]\n",
            "世宗大王 [(1, 134)]\n",
            "徙民政策 [(5, 366)]\n",
            "忠寧大君 [(3, 50)]\n",
            "李祹 [(1, 87)]\n",
            "貢法 [(5, 104)]\n",
            "공법 [(5, 100)]\n",
            "사민정책 [(5, 360)]\n",
            "세종 [(1, 17)]\n",
            "세종대왕 [(1, 128)]\n",
            "이도 [(1, 83)]\n",
            "충녕대군 [(3, 44)]\n"
          ]
        }
      ]
    },
    {
      "cell_type": "markdown",
      "source": [
        "예제 4.[예제2]와 같은 결과, defaultdict()사용"
      ],
      "metadata": {
        "id": "-v50t6lU0CN3"
      }
    },
    {
      "cell_type": "code",
      "source": [
        "\"\"\" 단어가 나타나는 위치는 가리키는 인덱스를 만든다.\"\"\"\n",
        "import sys, re, collections\n",
        "\n",
        "WORD_RE = re.compile(r'\\w+')\n",
        "\n",
        "index = collections.defaultdict(list)   #defaultdict!\n",
        "\n",
        "with open(\"sejong.txt\", encoding='utf-8') as fp :\n",
        "    for line_no, line in enumerate(fp, 1) :\n",
        "        for match in WORD_RE.finditer(line) :\n",
        "            word = match.group()\n",
        "            column_no = match.start()+1\n",
        "            location = (line_no, column_no)\n",
        "            index[word].append(location)\n",
        "\n",
        "for word in sorted(index, key=str.upper) :\n",
        "    print(word, index[word])"
      ],
      "metadata": {
        "colab": {
          "base_uri": "https://localhost:8080/"
        },
        "id": "T_Rj9Gcd0CDw",
        "outputId": "52026e12-8589-4f2d-b59f-b0f9145fd225"
      },
      "execution_count": 7,
      "outputs": [
        {
          "output_type": "stream",
          "name": "stdout",
          "text": [
            "1 [(3, 447)]\n",
            "1397 [(1, 39)]\n",
            "1418 [(3, 118)]\n",
            "1422 [(3, 441)]\n",
            "1439 [(7, 6)]\n",
            "1450 [(1, 55), (7, 123)]\n",
            "15 [(1, 32)]\n",
            "2 [(5, 168)]\n",
            "3 [(5, 171)]\n",
            "30 [(1, 46)]\n",
            "4 [(5, 479)]\n",
            "5 [(5, 482)]\n",
            "6 [(7, 39)]\n",
            "a [(3, 184), (5, 339)]\n",
            "abdicated [(3, 224)]\n",
            "absolute [(3, 359)]\n",
            "acted [(7, 85)]\n",
            "advancements [(5, 185)]\n",
            "alphabet [(1, 316), (5, 158)]\n",
            "also [(5, 431)]\n",
            "amendments [(5, 88)]\n",
            "and [(1, 260), (3, 94), (3, 378), (3, 398), (5, 36), (5, 64), (5, 131), (5, 209), (5, 225), (5, 323), (7, 42)]\n",
            "areas [(5, 421)]\n",
            "as [(1, 107), (1, 211), (1, 278), (3, 167), (7, 91)]\n",
            "became [(7, 15)]\n",
            "brother [(3, 151)]\n",
            "campaigns [(5, 300)]\n",
            "Chungnyeong [(3, 31)]\n",
            "commonly [(1, 92)]\n",
            "Confucian [(5, 26), (5, 44)]\n",
            "conquered [(5, 411)]\n",
            "continued [(3, 402)]\n",
            "created [(5, 123)]\n",
            "crown [(3, 170)]\n",
            "Crown [(7, 62)]\n",
            "death [(3, 432)]\n",
            "died [(7, 109)]\n",
            "dynasty [(1, 178)]\n",
            "early [(3, 271)]\n",
            "economic [(5, 262)]\n",
            "eldest [(3, 144), (7, 50)]\n",
            "Emeritus [(3, 307)]\n",
            "enacted [(5, 68)]\n",
            "encouraged [(5, 174)]\n",
            "establishing [(5, 373)]\n",
            "executive [(3, 368)]\n",
            "favor [(3, 257)]\n",
            "few [(3, 186)]\n",
            "fourth [(1, 149)]\n",
            "From [(7, 1)]\n",
            "govern [(3, 415)]\n",
            "Grand [(3, 18)]\n",
            "Great [(1, 121)]\n",
            "greatest [(1, 225)]\n",
            "growth [(5, 271)]\n",
            "Hangul [(1, 297)]\n",
            "Hanja [(1, 21)]\n",
            "He [(1, 196), (5, 109), (5, 279), (5, 428)]\n",
            "he [(3, 57), (7, 12)]\n",
            "his [(3, 140), (3, 428), (7, 46)]\n",
            "history [(1, 251)]\n",
            "Hyang [(7, 78)]\n",
            "ill [(7, 35)]\n",
            "implemented [(5, 327)]\n",
            "in [(1, 241), (3, 245), (3, 438), (5, 198), (5, 398)]\n",
            "In [(3, 115), (3, 264)]\n",
            "increasingly [(7, 22)]\n",
            "Initially [(3, 1)]\n",
            "introduced [(5, 229)]\n",
            "inventor [(1, 285)]\n",
            "is [(1, 199), (1, 264)]\n",
            "island [(5, 471)]\n",
            "Je [(3, 163)]\n",
            "Joseon [(1, 171)]\n",
            "King [(3, 81), (3, 302)]\n",
            "known [(1, 101)]\n",
            "Korea [(1, 189)]\n",
            "Korean [(1, 9), (1, 244), (1, 332), (5, 19), (5, 151)]\n",
            "language [(1, 339)]\n",
            "later [(3, 197)]\n",
            "launched [(5, 282)]\n",
            "legal [(5, 82)]\n",
            "major [(5, 76)]\n",
            "March [(1, 49), (7, 117)]\n",
            "May [(1, 35)]\n",
            "measures [(5, 240)]\n",
            "military [(3, 382), (5, 291)]\n",
            "monarch [(1, 156)]\n",
            "months [(3, 190)]\n",
            "most [(3, 346)]\n",
            "name [(1, 71)]\n",
            "native [(1, 309)]\n",
            "Neo [(5, 40)]\n",
            "newly [(5, 405)]\n",
            "north [(5, 317)]\n",
            "notably [(3, 351)]\n",
            "Occupation [(5, 448)]\n",
            "of [(1, 164), (1, 186), (1, 218), (1, 294), (1, 325), (3, 78), (3, 283), (5, 459)]\n",
            "on [(7, 114)]\n",
            "one [(1, 214)]\n",
            "ordered [(5, 436)]\n",
            "personal [(1, 62)]\n",
            "personally [(5, 112)]\n",
            "policies [(5, 54)]\n",
            "policy [(5, 352)]\n",
            "power [(3, 391)]\n",
            "powers [(3, 338)]\n",
            "Prince [(3, 24), (7, 68)]\n",
            "prince [(3, 176)]\n",
            "promulgated [(5, 135)]\n",
            "Queen [(3, 98)]\n",
            "regarded [(1, 202)]\n",
            "regent [(7, 94)]\n",
            "reign [(3, 295)]\n",
            "reinforced [(5, 8)]\n",
            "relocation [(5, 341)]\n",
            "remembered [(1, 267)]\n",
            "replaced [(3, 131)]\n",
            "retained [(3, 324)]\n",
            "rulers [(1, 234)]\n",
            "s [(3, 255), (3, 293)]\n",
            "science [(5, 201)]\n",
            "Sejong [(1, 1), (1, 110), (3, 124), (3, 248), (3, 286), (5, 1), (7, 102)]\n",
            "settlements [(5, 386)]\n",
            "son [(3, 74), (7, 57)]\n",
            "stimulate [(5, 252)]\n",
            "Taejong [(3, 86), (3, 204), (3, 316)]\n",
            "technology [(5, 213)]\n",
            "the [(1, 117), (1, 145), (1, 167), (1, 221), (1, 281), (1, 305), (1, 328), (3, 64), (3, 234), (3, 267), (5, 147), (5, 313), (5, 401), (5, 444)]\n",
            "third [(3, 68)]\n",
            "throne [(3, 238)]\n",
            "titled [(3, 11)]\n",
            "To [(1, 79)]\n",
            "to [(3, 412), (5, 249), (5, 310)]\n",
            "Tsushima [(5, 462)]\n",
            "until [(3, 422)]\n",
            "vast [(3, 333)]\n",
            "voluntarily [(3, 212)]\n",
            "was [(1, 141), (3, 60)]\n",
            "Wongyeong [(3, 104)]\n",
            "years [(3, 277)]\n",
            "Yi [(1, 76), (3, 160), (7, 75)]\n",
            "世宗 [(1, 28)]\n",
            "世宗大王 [(1, 134)]\n",
            "徙民政策 [(5, 366)]\n",
            "忠寧大君 [(3, 50)]\n",
            "李祹 [(1, 87)]\n",
            "貢法 [(5, 104)]\n",
            "공법 [(5, 100)]\n",
            "사민정책 [(5, 360)]\n",
            "세종 [(1, 17)]\n",
            "세종대왕 [(1, 128)]\n",
            "이도 [(1, 83)]\n",
            "충녕대군 [(3, 44)]\n"
          ]
        }
      ]
    },
    {
      "cell_type": "markdown",
      "source": [
        "예제 5.조회할 때 키를 문자열로 변환하는 StrKeyDict()"
      ],
      "metadata": {
        "id": "pwFhrrex0wjB"
      }
    },
    {
      "cell_type": "code",
      "source": [
        "class StrKeyDict0(dict) :\n",
        " # dict 상속\n",
        "\n",
        "    def __missing__(self, key) :\n",
        "\n",
        "        if isinstance(key, str) :\n",
        "            # 키가 문자열인지 확인. 존재하지 않으면 에러 KeyError 발생\n",
        "            raise KeyError(key)\n",
        "        return self[str(key)] # 키에서 문자열 만들고 조회\n",
        "\n",
        "    def get(self, key, default=None) :\n",
        "        try :\n",
        "            return self[key]\n",
        "        except KeyError:\n",
        "            return default\n",
        "\n",
        "    def __contains__(self, key) :\n",
        "        return key in self.keys() or str(key) in self.keys()"
      ],
      "metadata": {
        "id": "whCb6Bec0txA"
      },
      "execution_count": 9,
      "outputs": []
    },
    {
      "cell_type": "markdown",
      "source": [
        "예제 6.[예제5]수행"
      ],
      "metadata": {
        "id": "hkcvhREF1-5b"
      }
    },
    {
      "cell_type": "code",
      "source": [
        "d = StrKeyDict0([('2', 'two'), ('4', 'four')])\n",
        "d['2']"
      ],
      "metadata": {
        "colab": {
          "base_uri": "https://localhost:8080/",
          "height": 35
        },
        "id": "4Be-pD3k2CIE",
        "outputId": "22831c88-1ed3-4603-cbaa-692472caf8de"
      },
      "execution_count": 11,
      "outputs": [
        {
          "output_type": "execute_result",
          "data": {
            "text/plain": [
              "'two'"
            ],
            "application/vnd.google.colaboratory.intrinsic+json": {
              "type": "string"
            }
          },
          "metadata": {},
          "execution_count": 11
        }
      ]
    },
    {
      "cell_type": "code",
      "source": [
        "d[4]"
      ],
      "metadata": {
        "colab": {
          "base_uri": "https://localhost:8080/",
          "height": 35
        },
        "id": "JJhz59sr2XJW",
        "outputId": "0e41a555-3c1b-4715-c8ff-4b4cc50d2716"
      },
      "execution_count": 12,
      "outputs": [
        {
          "output_type": "execute_result",
          "data": {
            "text/plain": [
              "'four'"
            ],
            "application/vnd.google.colaboratory.intrinsic+json": {
              "type": "string"
            }
          },
          "metadata": {},
          "execution_count": 12
        }
      ]
    },
    {
      "cell_type": "code",
      "source": [
        "d.get('2')"
      ],
      "metadata": {
        "colab": {
          "base_uri": "https://localhost:8080/",
          "height": 35
        },
        "id": "j_PzcEZU2YWx",
        "outputId": "f6a89756-0edd-4f20-9e18-3c0599b195cb"
      },
      "execution_count": 13,
      "outputs": [
        {
          "output_type": "execute_result",
          "data": {
            "text/plain": [
              "'two'"
            ],
            "application/vnd.google.colaboratory.intrinsic+json": {
              "type": "string"
            }
          },
          "metadata": {},
          "execution_count": 13
        }
      ]
    },
    {
      "cell_type": "code",
      "source": [
        "d.get(4)"
      ],
      "metadata": {
        "colab": {
          "base_uri": "https://localhost:8080/",
          "height": 35
        },
        "id": "nu8Q8GYd2Z6X",
        "outputId": "4605017f-8662-44b3-d58e-171fa96a54e6"
      },
      "execution_count": 14,
      "outputs": [
        {
          "output_type": "execute_result",
          "data": {
            "text/plain": [
              "'four'"
            ],
            "application/vnd.google.colaboratory.intrinsic+json": {
              "type": "string"
            }
          },
          "metadata": {},
          "execution_count": 14
        }
      ]
    },
    {
      "cell_type": "code",
      "source": [
        "d.get(1,'N/A')"
      ],
      "metadata": {
        "colab": {
          "base_uri": "https://localhost:8080/",
          "height": 35
        },
        "id": "nWRQLCeA2cKw",
        "outputId": "dcc412fb-a1a4-4bc3-c3d1-ea1cf366aa47"
      },
      "execution_count": 15,
      "outputs": [
        {
          "output_type": "execute_result",
          "data": {
            "text/plain": [
              "'N/A'"
            ],
            "application/vnd.google.colaboratory.intrinsic+json": {
              "type": "string"
            }
          },
          "metadata": {},
          "execution_count": 15
        }
      ]
    },
    {
      "cell_type": "code",
      "source": [
        "2 in d"
      ],
      "metadata": {
        "colab": {
          "base_uri": "https://localhost:8080/"
        },
        "id": "EZA7_RoC2eN8",
        "outputId": "f31e2e31-7c44-4362-a96f-474f25017d83"
      },
      "execution_count": 16,
      "outputs": [
        {
          "output_type": "execute_result",
          "data": {
            "text/plain": [
              "True"
            ]
          },
          "metadata": {},
          "execution_count": 16
        }
      ]
    },
    {
      "cell_type": "markdown",
      "source": [
        "예제 7.[예제 5]에 대한 KeyError 확인: 문자열로 변환됨"
      ],
      "metadata": {
        "id": "hgeot1MU2hHw"
      }
    },
    {
      "cell_type": "code",
      "source": [
        "d[1]"
      ],
      "metadata": {
        "colab": {
          "base_uri": "https://localhost:8080/",
          "height": 298
        },
        "id": "2h6EJ2MQ2nit",
        "outputId": "cb11d5ca-857d-403a-c458-d4b4f9a774dd"
      },
      "execution_count": 17,
      "outputs": [
        {
          "output_type": "error",
          "ename": "KeyError",
          "evalue": "'1'",
          "traceback": [
            "\u001b[0;31m---------------------------------------------------------------------------\u001b[0m",
            "\u001b[0;31mKeyError\u001b[0m                                  Traceback (most recent call last)",
            "\u001b[0;32m<ipython-input-17-abe283337115>\u001b[0m in \u001b[0;36m<cell line: 1>\u001b[0;34m()\u001b[0m\n\u001b[0;32m----> 1\u001b[0;31m \u001b[0md\u001b[0m\u001b[0;34m[\u001b[0m\u001b[0;36m1\u001b[0m\u001b[0;34m]\u001b[0m\u001b[0;34m\u001b[0m\u001b[0;34m\u001b[0m\u001b[0m\n\u001b[0m",
            "\u001b[0;32m<ipython-input-9-9b83b8df78eb>\u001b[0m in \u001b[0;36m__missing__\u001b[0;34m(self, key)\u001b[0m\n\u001b[1;32m      7\u001b[0m             \u001b[0;31m# 키가 문자열인지 확인. 존재하지 않으면 에러 KeyError 발생\u001b[0m\u001b[0;34m\u001b[0m\u001b[0;34m\u001b[0m\u001b[0m\n\u001b[1;32m      8\u001b[0m             \u001b[0;32mraise\u001b[0m \u001b[0mKeyError\u001b[0m\u001b[0;34m(\u001b[0m\u001b[0mkey\u001b[0m\u001b[0;34m)\u001b[0m\u001b[0;34m\u001b[0m\u001b[0;34m\u001b[0m\u001b[0m\n\u001b[0;32m----> 9\u001b[0;31m         \u001b[0;32mreturn\u001b[0m \u001b[0mself\u001b[0m\u001b[0;34m[\u001b[0m\u001b[0mstr\u001b[0m\u001b[0;34m(\u001b[0m\u001b[0mkey\u001b[0m\u001b[0;34m)\u001b[0m\u001b[0;34m]\u001b[0m \u001b[0;31m# 키에서 문자열 만들고 조회\u001b[0m\u001b[0;34m\u001b[0m\u001b[0;34m\u001b[0m\u001b[0m\n\u001b[0m\u001b[1;32m     10\u001b[0m \u001b[0;34m\u001b[0m\u001b[0m\n\u001b[1;32m     11\u001b[0m     \u001b[0;32mdef\u001b[0m \u001b[0mget\u001b[0m\u001b[0;34m(\u001b[0m\u001b[0mself\u001b[0m\u001b[0;34m,\u001b[0m \u001b[0mkey\u001b[0m\u001b[0;34m,\u001b[0m \u001b[0mdefault\u001b[0m\u001b[0;34m=\u001b[0m\u001b[0;32mNone\u001b[0m\u001b[0;34m)\u001b[0m \u001b[0;34m:\u001b[0m\u001b[0;34m\u001b[0m\u001b[0;34m\u001b[0m\u001b[0m\n",
            "\u001b[0;32m<ipython-input-9-9b83b8df78eb>\u001b[0m in \u001b[0;36m__missing__\u001b[0;34m(self, key)\u001b[0m\n\u001b[1;32m      6\u001b[0m         \u001b[0;32mif\u001b[0m \u001b[0misinstance\u001b[0m\u001b[0;34m(\u001b[0m\u001b[0mkey\u001b[0m\u001b[0;34m,\u001b[0m \u001b[0mstr\u001b[0m\u001b[0;34m)\u001b[0m \u001b[0;34m:\u001b[0m\u001b[0;34m\u001b[0m\u001b[0;34m\u001b[0m\u001b[0m\n\u001b[1;32m      7\u001b[0m             \u001b[0;31m# 키가 문자열인지 확인. 존재하지 않으면 에러 KeyError 발생\u001b[0m\u001b[0;34m\u001b[0m\u001b[0;34m\u001b[0m\u001b[0m\n\u001b[0;32m----> 8\u001b[0;31m             \u001b[0;32mraise\u001b[0m \u001b[0mKeyError\u001b[0m\u001b[0;34m(\u001b[0m\u001b[0mkey\u001b[0m\u001b[0;34m)\u001b[0m\u001b[0;34m\u001b[0m\u001b[0;34m\u001b[0m\u001b[0m\n\u001b[0m\u001b[1;32m      9\u001b[0m         \u001b[0;32mreturn\u001b[0m \u001b[0mself\u001b[0m\u001b[0;34m[\u001b[0m\u001b[0mstr\u001b[0m\u001b[0;34m(\u001b[0m\u001b[0mkey\u001b[0m\u001b[0;34m)\u001b[0m\u001b[0;34m]\u001b[0m \u001b[0;31m# 키에서 문자열 만들고 조회\u001b[0m\u001b[0;34m\u001b[0m\u001b[0;34m\u001b[0m\u001b[0m\n\u001b[1;32m     10\u001b[0m \u001b[0;34m\u001b[0m\u001b[0m\n",
            "\u001b[0;31mKeyError\u001b[0m: '1'"
          ]
        }
      ]
    },
    {
      "cell_type": "markdown",
      "source": [
        "예제 8.삽입/갱신/조회 할 때 비문자열 키를\n",
        "항상 문자열로 변환([예제5]와 비교)"
      ],
      "metadata": {
        "id": "Hi73iRJ-3RCZ"
      }
    },
    {
      "cell_type": "code",
      "source": [
        "class StrKeyDict(collections.UserDict) :\n",
        "\n",
        "    def __missing__(self, key) :\n",
        "        if isinstance(key, str) :\n",
        "            raise KeyError(key)\n",
        "        return self[str(key)]\n",
        "\n",
        "    def __contains__(self, key) :\n",
        "        return str(key) in self.data\n",
        "\n",
        "    def __setitem__(self, key, item) :\n",
        "        self.data[str(key)] = item"
      ],
      "metadata": {
        "id": "U_YwDEqS3WXW"
      },
      "execution_count": 18,
      "outputs": []
    },
    {
      "cell_type": "markdown",
      "source": [
        "예제 9.dict에서 읽기 전용 mappingproxy 객체를 생성하는 MappingProxyType"
      ],
      "metadata": {
        "id": "2SpQRul94ZzU"
      }
    },
    {
      "cell_type": "code",
      "source": [
        "from types import MappingProxyType\n",
        "d = {1: 'A'}\n",
        "d_proxy = MappingProxyType(d)"
      ],
      "metadata": {
        "id": "-drw49Il4ief"
      },
      "execution_count": 23,
      "outputs": []
    },
    {
      "cell_type": "code",
      "source": [
        "d_proxy"
      ],
      "metadata": {
        "colab": {
          "base_uri": "https://localhost:8080/"
        },
        "id": "Nfk94TPA6Dcs",
        "outputId": "f943c81e-1d65-4342-dc60-ed0eefbd93c8"
      },
      "execution_count": 24,
      "outputs": [
        {
          "output_type": "execute_result",
          "data": {
            "text/plain": [
              "mappingproxy({1: 'A'})"
            ]
          },
          "metadata": {},
          "execution_count": 24
        }
      ]
    },
    {
      "cell_type": "code",
      "source": [
        "d_proxy[1]"
      ],
      "metadata": {
        "colab": {
          "base_uri": "https://localhost:8080/",
          "height": 35
        },
        "id": "lm6nU8_p6FVI",
        "outputId": "7b842502-cd99-4597-fece-0e1b19cde454"
      },
      "execution_count": 25,
      "outputs": [
        {
          "output_type": "execute_result",
          "data": {
            "text/plain": [
              "'A'"
            ],
            "application/vnd.google.colaboratory.intrinsic+json": {
              "type": "string"
            }
          },
          "metadata": {},
          "execution_count": 25
        }
      ]
    },
    {
      "cell_type": "code",
      "source": [
        "d_proxy[2] = 'x'"
      ],
      "metadata": {
        "colab": {
          "base_uri": "https://localhost:8080/",
          "height": 146
        },
        "id": "x-8cmnF56HTn",
        "outputId": "6eb71c0e-3c44-4127-c58c-7923f8c3b199"
      },
      "execution_count": 26,
      "outputs": [
        {
          "output_type": "error",
          "ename": "TypeError",
          "evalue": "'mappingproxy' object does not support item assignment",
          "traceback": [
            "\u001b[0;31m---------------------------------------------------------------------------\u001b[0m",
            "\u001b[0;31mTypeError\u001b[0m                                 Traceback (most recent call last)",
            "\u001b[0;32m<ipython-input-26-bc17a9a62754>\u001b[0m in \u001b[0;36m<cell line: 1>\u001b[0;34m()\u001b[0m\n\u001b[0;32m----> 1\u001b[0;31m \u001b[0md_proxy\u001b[0m\u001b[0;34m[\u001b[0m\u001b[0;36m2\u001b[0m\u001b[0;34m]\u001b[0m \u001b[0;34m=\u001b[0m \u001b[0;34m'x'\u001b[0m\u001b[0;34m\u001b[0m\u001b[0;34m\u001b[0m\u001b[0m\n\u001b[0m",
            "\u001b[0;31mTypeError\u001b[0m: 'mappingproxy' object does not support item assignment"
          ]
        }
      ]
    },
    {
      "cell_type": "code",
      "source": [
        "d[2] = 'B'\n",
        "d_proxy"
      ],
      "metadata": {
        "colab": {
          "base_uri": "https://localhost:8080/"
        },
        "id": "t02AbaA76HHT",
        "outputId": "6b8e40b2-e36a-4d63-9d20-e3302b0cc839"
      },
      "execution_count": 27,
      "outputs": [
        {
          "output_type": "execute_result",
          "data": {
            "text/plain": [
              "mappingproxy({1: 'A', 2: 'B'})"
            ]
          },
          "metadata": {},
          "execution_count": 27
        }
      ]
    },
    {
      "cell_type": "markdown",
      "source": [
        "예제 10.set 예제"
      ],
      "metadata": {
        "id": "PSTMk1Zn4pGc"
      }
    },
    {
      "cell_type": "code",
      "source": [
        "l = [\"spam\", \"spam\", \"eggs\", \"spam\"]\n",
        "set(l)"
      ],
      "metadata": {
        "colab": {
          "base_uri": "https://localhost:8080/"
        },
        "id": "jxOIkyZf5GFo",
        "outputId": "e153aee1-3a86-4da0-aad1-7a7e4889339d"
      },
      "execution_count": 38,
      "outputs": [
        {
          "output_type": "execute_result",
          "data": {
            "text/plain": [
              "{'eggs', 'spam'}"
            ]
          },
          "metadata": {},
          "execution_count": 38
        }
      ]
    },
    {
      "cell_type": "code",
      "source": [
        "list(set(l))"
      ],
      "metadata": {
        "colab": {
          "base_uri": "https://localhost:8080/"
        },
        "id": "dEmylfwQ5Nr8",
        "outputId": "4f77a935-b935-42e6-c9c6-b60897fb2d72"
      },
      "execution_count": 39,
      "outputs": [
        {
          "output_type": "execute_result",
          "data": {
            "text/plain": [
              "['eggs', 'spam']"
            ]
          },
          "metadata": {},
          "execution_count": 39
        }
      ]
    },
    {
      "cell_type": "markdown",
      "source": [
        "예제 11.'l' 안에서 'm'의 발생 횟수 구하기"
      ],
      "metadata": {
        "id": "Rzg2W-BJ5Fbr"
      }
    },
    {
      "cell_type": "code",
      "source": [
        "l = set([\"spam\", \"spam\", \"eggs\", \"spam\", \"Eggs\", \"meats\", \"onions\", \"onions\"])\n",
        "m = set([\"eggs\", \"onions\"])\n",
        "\n",
        "found = len(l & m)\n",
        "found"
      ],
      "metadata": {
        "colab": {
          "base_uri": "https://localhost:8080/"
        },
        "id": "LkfHxJlV5MTH",
        "outputId": "204db847-8acc-473f-f635-f3ce3f597963"
      },
      "execution_count": 40,
      "outputs": [
        {
          "output_type": "execute_result",
          "data": {
            "text/plain": [
              "2"
            ]
          },
          "metadata": {},
          "execution_count": 40
        }
      ]
    },
    {
      "cell_type": "code",
      "source": [
        "found = 0\n",
        "for n in m:\n",
        "    if n in l:\n",
        "        found + 1\n",
        "\n",
        "found"
      ],
      "metadata": {
        "colab": {
          "base_uri": "https://localhost:8080/"
        },
        "id": "Ucrr1-3w5Pkx",
        "outputId": "fd73b1c9-9fe5-46a3-d108-db7205f6d310"
      },
      "execution_count": 41,
      "outputs": [
        {
          "output_type": "execute_result",
          "data": {
            "text/plain": [
              "0"
            ]
          },
          "metadata": {},
          "execution_count": 41
        }
      ]
    },
    {
      "cell_type": "code",
      "source": [
        "found = len(l.intersection(m))\n",
        "found"
      ],
      "metadata": {
        "colab": {
          "base_uri": "https://localhost:8080/"
        },
        "id": "2vZ0eatD5P1f",
        "outputId": "593a4048-c90b-4bb2-ecea-d0682019a6bd"
      },
      "execution_count": 42,
      "outputs": [
        {
          "output_type": "execute_result",
          "data": {
            "text/plain": [
              "2"
            ]
          },
          "metadata": {},
          "execution_count": 42
        }
      ]
    },
    {
      "cell_type": "markdown",
      "source": [
        "예제 12.집합 리터럴 확인"
      ],
      "metadata": {
        "id": "VI_jLeud5Qoa"
      }
    },
    {
      "cell_type": "code",
      "source": [
        "s = {1}\n",
        "print(type(s))\n",
        "print(s)\n",
        "\n",
        "s.pop()\n",
        "print(s)"
      ],
      "metadata": {
        "colab": {
          "base_uri": "https://localhost:8080/"
        },
        "id": "PbvkFDmH5zvW",
        "outputId": "503e173c-17c3-4a92-942e-a4dabf9317b9"
      },
      "execution_count": 43,
      "outputs": [
        {
          "output_type": "stream",
          "name": "stdout",
          "text": [
            "<class 'set'>\n",
            "{1}\n",
            "set()\n"
          ]
        }
      ]
    },
    {
      "cell_type": "markdown",
      "source": [
        "예제 13.유니코드명 안에 'SIGN'이 들어 있는 단어를 가진 Latin-1 문자들의 집합 만들기"
      ],
      "metadata": {
        "id": "um-M2Mzq6RHv"
      }
    },
    {
      "cell_type": "code",
      "source": [
        "from unicodedata import name\n",
        "{chr(i) for i in range(23, 256) if 'SIGN' in name(chr(i), '')}"
      ],
      "metadata": {
        "colab": {
          "base_uri": "https://localhost:8080/"
        },
        "id": "qmdg7HSZ6XeK",
        "outputId": "7b778344-c22b-4937-e658-eb96461afd31"
      },
      "execution_count": 44,
      "outputs": [
        {
          "output_type": "execute_result",
          "data": {
            "text/plain": [
              "{'#',\n",
              " '$',\n",
              " '%',\n",
              " '+',\n",
              " '<',\n",
              " '=',\n",
              " '>',\n",
              " '¢',\n",
              " '£',\n",
              " '¤',\n",
              " '¥',\n",
              " '§',\n",
              " '©',\n",
              " '¬',\n",
              " '®',\n",
              " '°',\n",
              " '±',\n",
              " 'µ',\n",
              " '¶',\n",
              " '×',\n",
              " '÷'}"
            ]
          },
          "metadata": {},
          "execution_count": 44
        }
      ]
    },
    {
      "cell_type": "markdown",
      "source": [
        "예제 14. 동일한 데이터를 서로 다른 방식을  정렬한 세 개의 딕셔너리 채우기"
      ],
      "metadata": {
        "id": "3vdT8Mby701Z"
      }
    },
    {
      "cell_type": "code",
      "source": [
        "DIAL_CODES = [\n",
        "    (82, 'Korea'),\n",
        "    (91, 'India'),\n",
        "    (1, 'United States'),\n",
        "    (92, 'Pakistan'),\n",
        "    (7, 'Russia')\n",
        "]\n",
        "\n",
        "# 인구가 많은 순서대로 정렬된 튜플 생성\n",
        "d1 = dict(DIAL_CODES)\n",
        "print(f'd1: {d1.keys()}')\n",
        "# 국제전화 코드로 정렬된 튜플 생성\n",
        "d2 = dict(sorted(DIAL_CODES))\n",
        "print(f'd2: {d2.keys()}')\n",
        "# 국가명으로 정렬된 튜플 생서\n",
        "d3 = dict(sorted(DIAL_CODES, key=lambda x:x[1]))\n",
        "print(f'd3: {d3.keys()}')\n",
        "\n",
        "assert d1 == d2 and d2 == d3\n",
        "# 딕셔너리가 모두 동일한 키-값 쌍을 갖고 있음을 판단"
      ],
      "metadata": {
        "colab": {
          "base_uri": "https://localhost:8080/"
        },
        "id": "SdET3OlR70k8",
        "outputId": "256c3950-1f36-4120-d63f-3b8a6eb24e91"
      },
      "execution_count": 45,
      "outputs": [
        {
          "output_type": "stream",
          "name": "stdout",
          "text": [
            "d1: dict_keys([82, 91, 1, 92, 7])\n",
            "d2: dict_keys([1, 7, 82, 91, 92])\n",
            "d3: dict_keys([91, 82, 92, 7, 1])\n"
          ]
        }
      ]
    }
  ]
}