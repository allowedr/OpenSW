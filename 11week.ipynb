{
  "nbformat": 4,
  "nbformat_minor": 0,
  "metadata": {
    "colab": {
      "provenance": []
    },
    "kernelspec": {
      "name": "python3",
      "display_name": "Python 3"
    },
    "language_info": {
      "name": "python"
    }
  },
  "cells": [
    {
      "cell_type": "code",
      "execution_count": 1,
      "metadata": {
        "id": "ZpF0KWwMWxqd"
      },
      "outputs": [],
      "source": [
        "def factorial(n):\n",
        "    \"\"\"return n!\"\"\"\n",
        "    return 1 if n < 2 else n * factorial(n-1)"
      ]
    },
    {
      "cell_type": "code",
      "source": [
        "factorial(42)"
      ],
      "metadata": {
        "colab": {
          "base_uri": "https://localhost:8080/"
        },
        "id": "OZo4kalPXGHC",
        "outputId": "7a8f1573-01d9-465f-ad9b-1c85fec37436"
      },
      "execution_count": 2,
      "outputs": [
        {
          "output_type": "execute_result",
          "data": {
            "text/plain": [
              "1405006117752879898543142606244511569936384000000000"
            ]
          },
          "metadata": {},
          "execution_count": 2
        }
      ]
    },
    {
      "cell_type": "code",
      "source": [
        "factorial.__doc__"
      ],
      "metadata": {
        "colab": {
          "base_uri": "https://localhost:8080/",
          "height": 35
        },
        "id": "_pLwHhYRXKSJ",
        "outputId": "87cac2ed-59fd-494b-a382-2c3f869297b6"
      },
      "execution_count": 3,
      "outputs": [
        {
          "output_type": "execute_result",
          "data": {
            "text/plain": [
              "'return n!'"
            ],
            "application/vnd.google.colaboratory.intrinsic+json": {
              "type": "string"
            }
          },
          "metadata": {},
          "execution_count": 3
        }
      ]
    },
    {
      "cell_type": "code",
      "source": [
        "type(factorial)"
      ],
      "metadata": {
        "colab": {
          "base_uri": "https://localhost:8080/"
        },
        "id": "np1NtgyrXNz-",
        "outputId": "d8dddbac-8faf-48d0-aa24-482c48e11019"
      },
      "execution_count": 4,
      "outputs": [
        {
          "output_type": "execute_result",
          "data": {
            "text/plain": [
              "function"
            ]
          },
          "metadata": {},
          "execution_count": 4
        }
      ]
    },
    {
      "cell_type": "code",
      "source": [
        "help(factorial)"
      ],
      "metadata": {
        "colab": {
          "base_uri": "https://localhost:8080/"
        },
        "id": "IAGux6FOXNj0",
        "outputId": "34711236-7ef4-4e26-bb3f-0ae99f6c91bf"
      },
      "execution_count": 5,
      "outputs": [
        {
          "output_type": "stream",
          "name": "stdout",
          "text": [
            "Help on function factorial in module __main__:\n",
            "\n",
            "factorial(n)\n",
            "    return n!\n",
            "\n"
          ]
        }
      ]
    },
    {
      "cell_type": "code",
      "source": [
        "fact = factorial\n",
        "fact"
      ],
      "metadata": {
        "colab": {
          "base_uri": "https://localhost:8080/",
          "height": 103
        },
        "id": "lrczJ9hYXSnA",
        "outputId": "a0452c9f-05c1-41cb-8afa-e7f65568b328"
      },
      "execution_count": 6,
      "outputs": [
        {
          "output_type": "execute_result",
          "data": {
            "text/plain": [
              "<function __main__.factorial(n)>"
            ],
            "text/html": [
              "<div style=\"max-width:800px; border: 1px solid var(--colab-border-color);\"><style>\n",
              "      pre.function-repr-contents {\n",
              "        overflow-x: auto;\n",
              "        padding: 8px 12px;\n",
              "        max-height: 500px;\n",
              "      }\n",
              "\n",
              "      pre.function-repr-contents.function-repr-contents-collapsed {\n",
              "        cursor: pointer;\n",
              "        max-height: 100px;\n",
              "      }\n",
              "    </style>\n",
              "    <pre style=\"white-space: initial; background:\n",
              "         var(--colab-secondary-surface-color); padding: 8px 12px;\n",
              "         border-bottom: 1px solid var(--colab-border-color);\"><b>factorial</b><br/>def factorial(n)</pre><pre class=\"function-repr-contents function-repr-contents-collapsed\" style=\"\"><a class=\"filepath\" style=\"display:none\" href=\"#\">/content/&lt;ipython-input-1-c38a0b45160f&gt;</a>return n!</pre></div>"
            ]
          },
          "metadata": {},
          "execution_count": 6
        }
      ]
    },
    {
      "cell_type": "code",
      "source": [
        "fact(5)"
      ],
      "metadata": {
        "colab": {
          "base_uri": "https://localhost:8080/"
        },
        "id": "A5Gxwoe6XXtw",
        "outputId": "585ec392-b25f-4e59-e173-c95494a71853"
      },
      "execution_count": 7,
      "outputs": [
        {
          "output_type": "execute_result",
          "data": {
            "text/plain": [
              "120"
            ]
          },
          "metadata": {},
          "execution_count": 7
        }
      ]
    },
    {
      "cell_type": "code",
      "source": [
        "map(factorial, range(11))"
      ],
      "metadata": {
        "colab": {
          "base_uri": "https://localhost:8080/"
        },
        "id": "mhskz5cEXZLt",
        "outputId": "c19eab13-6a8b-4ced-b965-6d655293d1e1"
      },
      "execution_count": 8,
      "outputs": [
        {
          "output_type": "execute_result",
          "data": {
            "text/plain": [
              "<map at 0x7eb18ac61090>"
            ]
          },
          "metadata": {},
          "execution_count": 8
        }
      ]
    },
    {
      "cell_type": "code",
      "source": [
        "list(map(fact, range(11)))"
      ],
      "metadata": {
        "colab": {
          "base_uri": "https://localhost:8080/"
        },
        "id": "bolWakO8Xes8",
        "outputId": "34f00d53-e603-44e4-ee68-e4db8039d3fb"
      },
      "execution_count": 9,
      "outputs": [
        {
          "output_type": "execute_result",
          "data": {
            "text/plain": [
              "[1, 1, 2, 6, 24, 120, 720, 5040, 40320, 362880, 3628800]"
            ]
          },
          "metadata": {},
          "execution_count": 9
        }
      ]
    },
    {
      "cell_type": "code",
      "source": [
        "fruits = ['strawberry', 'fig', 'apple',\n",
        "          'cherry', 'raspberry', 'banana']\n",
        "sorted(fruits, key=len)"
      ],
      "metadata": {
        "colab": {
          "base_uri": "https://localhost:8080/"
        },
        "id": "EbvGaa35Xh2_",
        "outputId": "2a966dcc-06d6-4cec-81ae-7811e3c58ad8"
      },
      "execution_count": 10,
      "outputs": [
        {
          "output_type": "execute_result",
          "data": {
            "text/plain": [
              "['fig', 'apple', 'cherry', 'banana', 'raspberry', 'strawberry']"
            ]
          },
          "metadata": {},
          "execution_count": 10
        }
      ]
    },
    {
      "cell_type": "code",
      "source": [
        "def reverse(word):\n",
        "    return word[::-1]\n",
        "reverse('testing')"
      ],
      "metadata": {
        "colab": {
          "base_uri": "https://localhost:8080/",
          "height": 35
        },
        "id": "Jy5-77xuXsYC",
        "outputId": "f02ccde5-e1e4-4df2-e4db-7499ccc9cb90"
      },
      "execution_count": 11,
      "outputs": [
        {
          "output_type": "execute_result",
          "data": {
            "text/plain": [
              "'gnitset'"
            ],
            "application/vnd.google.colaboratory.intrinsic+json": {
              "type": "string"
            }
          },
          "metadata": {},
          "execution_count": 11
        }
      ]
    },
    {
      "cell_type": "code",
      "source": [
        "sorted(fruits, key=reverse)"
      ],
      "metadata": {
        "colab": {
          "base_uri": "https://localhost:8080/"
        },
        "id": "Fv0BL2zGXyqD",
        "outputId": "19884c68-7f43-4f18-c45d-e5950b248677"
      },
      "execution_count": 12,
      "outputs": [
        {
          "output_type": "execute_result",
          "data": {
            "text/plain": [
              "['banana', 'apple', 'fig', 'raspberry', 'strawberry', 'cherry']"
            ]
          },
          "metadata": {},
          "execution_count": 12
        }
      ]
    },
    {
      "cell_type": "code",
      "source": [
        "list(map(fact, range(6)))"
      ],
      "metadata": {
        "colab": {
          "base_uri": "https://localhost:8080/"
        },
        "id": "xdIgrYlSX2KT",
        "outputId": "82fa64fc-4cb2-4e17-e6f2-74872421ecac"
      },
      "execution_count": 13,
      "outputs": [
        {
          "output_type": "execute_result",
          "data": {
            "text/plain": [
              "[1, 1, 2, 6, 24, 120]"
            ]
          },
          "metadata": {},
          "execution_count": 13
        }
      ]
    },
    {
      "cell_type": "code",
      "source": [
        "[fact(n) for n in range(6)]"
      ],
      "metadata": {
        "colab": {
          "base_uri": "https://localhost:8080/"
        },
        "id": "QGotCXkKX5Ni",
        "outputId": "af4117e2-333c-47b8-f976-f99d034cf0fe"
      },
      "execution_count": 14,
      "outputs": [
        {
          "output_type": "execute_result",
          "data": {
            "text/plain": [
              "[1, 1, 2, 6, 24, 120]"
            ]
          },
          "metadata": {},
          "execution_count": 14
        }
      ]
    },
    {
      "cell_type": "code",
      "source": [
        "list(map(factorial, filter(lambda n: n  %2, range(6))))"
      ],
      "metadata": {
        "colab": {
          "base_uri": "https://localhost:8080/"
        },
        "id": "f3dhra_TX70I",
        "outputId": "cdd58cc2-887b-45c7-8817-0712eed43f7c"
      },
      "execution_count": 15,
      "outputs": [
        {
          "output_type": "execute_result",
          "data": {
            "text/plain": [
              "[1, 6, 120]"
            ]
          },
          "metadata": {},
          "execution_count": 15
        }
      ]
    },
    {
      "cell_type": "code",
      "source": [
        "[factorial(n) for n in range(6) if n % 2]"
      ],
      "metadata": {
        "colab": {
          "base_uri": "https://localhost:8080/"
        },
        "id": "Pd0f5I2uYAwT",
        "outputId": "77c4811c-3b46-41ba-92ff-1c56d6224c0a"
      },
      "execution_count": 16,
      "outputs": [
        {
          "output_type": "execute_result",
          "data": {
            "text/plain": [
              "[1, 6, 120]"
            ]
          },
          "metadata": {},
          "execution_count": 16
        }
      ]
    },
    {
      "cell_type": "code",
      "source": [
        "fruits = ['strawberry', 'fig', 'apple',\n",
        "          'cherry', 'raspbrry', 'banana']\n",
        "\n",
        "sorted(fruits, key=lambda word: word[::-1])"
      ],
      "metadata": {
        "colab": {
          "base_uri": "https://localhost:8080/"
        },
        "id": "URAiBC6eYMG8",
        "outputId": "39cc147e-eec8-450d-f088-134db1937426"
      },
      "execution_count": 17,
      "outputs": [
        {
          "output_type": "execute_result",
          "data": {
            "text/plain": [
              "['banana', 'apple', 'fig', 'raspbrry', 'strawberry', 'cherry']"
            ]
          },
          "metadata": {},
          "execution_count": 17
        }
      ]
    },
    {
      "cell_type": "code",
      "source": [
        "abs, str, 13"
      ],
      "metadata": {
        "colab": {
          "base_uri": "https://localhost:8080/"
        },
        "id": "Ua50TLJPYaYn",
        "outputId": "f4762460-6ff7-42a4-b86c-d41e72339761"
      },
      "execution_count": 18,
      "outputs": [
        {
          "output_type": "execute_result",
          "data": {
            "text/plain": [
              "(<function abs(x, /)>, str, 13)"
            ]
          },
          "metadata": {},
          "execution_count": 18
        }
      ]
    },
    {
      "cell_type": "code",
      "source": [
        "[callable(obj) for obj in (abs, str ,13)]"
      ],
      "metadata": {
        "colab": {
          "base_uri": "https://localhost:8080/"
        },
        "id": "yCCRcfZ-YcCq",
        "outputId": "7aa52fe3-caf2-496f-c84c-b51bbd868a3c"
      },
      "execution_count": 19,
      "outputs": [
        {
          "output_type": "execute_result",
          "data": {
            "text/plain": [
              "[True, True, False]"
            ]
          },
          "metadata": {},
          "execution_count": 19
        }
      ]
    },
    {
      "cell_type": "code",
      "source": [
        "import random\n",
        "\n",
        "class BingoCage:\n",
        "\n",
        "    def __init__(self, items):\n",
        "        self._items = list(items)\n",
        "        random.shuffle(self._items)\n",
        "\n",
        "    def pick(self):\n",
        "        try:\n",
        "            return self._items.pop()\n",
        "        except IndexError:\n",
        "            raise LookupError('pick from empty BingoCage')\n",
        "\n",
        "    def __call__(self):\n",
        "        return self.pick()"
      ],
      "metadata": {
        "id": "0zEbJHRVYp2O"
      },
      "execution_count": 20,
      "outputs": []
    },
    {
      "cell_type": "code",
      "source": [
        "bingo = BingoCage(range(3))\n",
        "bingo.pick()"
      ],
      "metadata": {
        "colab": {
          "base_uri": "https://localhost:8080/"
        },
        "id": "L3D1s2QvYrss",
        "outputId": "1081afd4-033f-40ba-89ef-47e870fcd018"
      },
      "execution_count": 21,
      "outputs": [
        {
          "output_type": "execute_result",
          "data": {
            "text/plain": [
              "1"
            ]
          },
          "metadata": {},
          "execution_count": 21
        }
      ]
    },
    {
      "cell_type": "code",
      "source": [
        "bingo()"
      ],
      "metadata": {
        "colab": {
          "base_uri": "https://localhost:8080/"
        },
        "id": "7Hb3WaWSYwqb",
        "outputId": "5a79a323-b458-4420-ad4e-59ff898f932b"
      },
      "execution_count": 22,
      "outputs": [
        {
          "output_type": "execute_result",
          "data": {
            "text/plain": [
              "0"
            ]
          },
          "metadata": {},
          "execution_count": 22
        }
      ]
    },
    {
      "cell_type": "code",
      "source": [
        "callable(bingo)"
      ],
      "metadata": {
        "colab": {
          "base_uri": "https://localhost:8080/"
        },
        "id": "csPtjtZqYyED",
        "outputId": "fdf20a16-5670-4acb-81a8-1c42079b4cb0"
      },
      "execution_count": 23,
      "outputs": [
        {
          "output_type": "execute_result",
          "data": {
            "text/plain": [
              "True"
            ]
          },
          "metadata": {},
          "execution_count": 23
        }
      ]
    },
    {
      "cell_type": "code",
      "source": [
        "bingo()"
      ],
      "metadata": {
        "colab": {
          "base_uri": "https://localhost:8080/"
        },
        "id": "UADixIPJYz4U",
        "outputId": "a8fa1ff8-02e7-4858-d989-b5e8618402cc"
      },
      "execution_count": 24,
      "outputs": [
        {
          "output_type": "execute_result",
          "data": {
            "text/plain": [
              "2"
            ]
          },
          "metadata": {},
          "execution_count": 24
        }
      ]
    },
    {
      "cell_type": "code",
      "source": [
        "bingo()"
      ],
      "metadata": {
        "colab": {
          "base_uri": "https://localhost:8080/",
          "height": 424
        },
        "id": "AsUzlHHUY1SH",
        "outputId": "2e22ee3e-11dd-4851-f5f7-23430ea708f3"
      },
      "execution_count": 25,
      "outputs": [
        {
          "output_type": "error",
          "ename": "LookupError",
          "evalue": "pick from empty BingoCage",
          "traceback": [
            "\u001b[0;31m---------------------------------------------------------------------------\u001b[0m",
            "\u001b[0;31mIndexError\u001b[0m                                Traceback (most recent call last)",
            "\u001b[0;32m<ipython-input-20-5b7e63287e4d>\u001b[0m in \u001b[0;36mpick\u001b[0;34m(self)\u001b[0m\n\u001b[1;32m     10\u001b[0m         \u001b[0;32mtry\u001b[0m\u001b[0;34m:\u001b[0m\u001b[0;34m\u001b[0m\u001b[0;34m\u001b[0m\u001b[0m\n\u001b[0;32m---> 11\u001b[0;31m             \u001b[0;32mreturn\u001b[0m \u001b[0mself\u001b[0m\u001b[0;34m.\u001b[0m\u001b[0m_items\u001b[0m\u001b[0;34m.\u001b[0m\u001b[0mpop\u001b[0m\u001b[0;34m(\u001b[0m\u001b[0;34m)\u001b[0m\u001b[0;34m\u001b[0m\u001b[0;34m\u001b[0m\u001b[0m\n\u001b[0m\u001b[1;32m     12\u001b[0m         \u001b[0;32mexcept\u001b[0m \u001b[0mIndexError\u001b[0m\u001b[0;34m:\u001b[0m\u001b[0;34m\u001b[0m\u001b[0;34m\u001b[0m\u001b[0m\n",
            "\u001b[0;31mIndexError\u001b[0m: pop from empty list",
            "\nDuring handling of the above exception, another exception occurred:\n",
            "\u001b[0;31mLookupError\u001b[0m                               Traceback (most recent call last)",
            "\u001b[0;32m<ipython-input-25-48893b59c1e2>\u001b[0m in \u001b[0;36m<cell line: 1>\u001b[0;34m()\u001b[0m\n\u001b[0;32m----> 1\u001b[0;31m \u001b[0mbingo\u001b[0m\u001b[0;34m(\u001b[0m\u001b[0;34m)\u001b[0m\u001b[0;34m\u001b[0m\u001b[0;34m\u001b[0m\u001b[0m\n\u001b[0m",
            "\u001b[0;32m<ipython-input-20-5b7e63287e4d>\u001b[0m in \u001b[0;36m__call__\u001b[0;34m(self)\u001b[0m\n\u001b[1;32m     14\u001b[0m \u001b[0;34m\u001b[0m\u001b[0m\n\u001b[1;32m     15\u001b[0m     \u001b[0;32mdef\u001b[0m \u001b[0m__call__\u001b[0m\u001b[0;34m(\u001b[0m\u001b[0mself\u001b[0m\u001b[0;34m)\u001b[0m\u001b[0;34m:\u001b[0m\u001b[0;34m\u001b[0m\u001b[0;34m\u001b[0m\u001b[0m\n\u001b[0;32m---> 16\u001b[0;31m         \u001b[0;32mreturn\u001b[0m \u001b[0mself\u001b[0m\u001b[0;34m.\u001b[0m\u001b[0mpick\u001b[0m\u001b[0;34m(\u001b[0m\u001b[0;34m)\u001b[0m\u001b[0;34m\u001b[0m\u001b[0;34m\u001b[0m\u001b[0m\n\u001b[0m",
            "\u001b[0;32m<ipython-input-20-5b7e63287e4d>\u001b[0m in \u001b[0;36mpick\u001b[0;34m(self)\u001b[0m\n\u001b[1;32m     11\u001b[0m             \u001b[0;32mreturn\u001b[0m \u001b[0mself\u001b[0m\u001b[0;34m.\u001b[0m\u001b[0m_items\u001b[0m\u001b[0;34m.\u001b[0m\u001b[0mpop\u001b[0m\u001b[0;34m(\u001b[0m\u001b[0;34m)\u001b[0m\u001b[0;34m\u001b[0m\u001b[0;34m\u001b[0m\u001b[0m\n\u001b[1;32m     12\u001b[0m         \u001b[0;32mexcept\u001b[0m \u001b[0mIndexError\u001b[0m\u001b[0;34m:\u001b[0m\u001b[0;34m\u001b[0m\u001b[0;34m\u001b[0m\u001b[0m\n\u001b[0;32m---> 13\u001b[0;31m             \u001b[0;32mraise\u001b[0m \u001b[0mLookupError\u001b[0m\u001b[0;34m(\u001b[0m\u001b[0;34m'pick from empty BingoCage'\u001b[0m\u001b[0;34m)\u001b[0m\u001b[0;34m\u001b[0m\u001b[0;34m\u001b[0m\u001b[0m\n\u001b[0m\u001b[1;32m     14\u001b[0m \u001b[0;34m\u001b[0m\u001b[0m\n\u001b[1;32m     15\u001b[0m     \u001b[0;32mdef\u001b[0m \u001b[0m__call__\u001b[0m\u001b[0;34m(\u001b[0m\u001b[0mself\u001b[0m\u001b[0;34m)\u001b[0m\u001b[0;34m:\u001b[0m\u001b[0;34m\u001b[0m\u001b[0;34m\u001b[0m\u001b[0m\n",
            "\u001b[0;31mLookupError\u001b[0m: pick from empty BingoCage"
          ]
        }
      ]
    },
    {
      "cell_type": "code",
      "source": [
        "def tag(name, *content, cls=None, **attrs):\n",
        "    \"\"\"하나 이상의 HTML 태그를 생성\"\"\"\n",
        "    if cls is not None:\n",
        "        attrs['class'] = cls\n",
        "    if attrs:\n",
        "        attr_str = ''.join(' %s=\"%s\"' % (attr, value)\n",
        "                           for attr, value\n",
        "                           in sorted(attrs.items()))\n",
        "    else:\n",
        "        attr_str = ''\n",
        "    if content:\n",
        "        return '\\n'.join('<%s%s>%s</%s>' %\n",
        "                         (name, attr_str, c, name) for c in content)\n",
        "    else:\n",
        "        return '<%s%s />' % (name, attr_str)"
      ],
      "metadata": {
        "id": "IGDHap-nY4Bq"
      },
      "execution_count": 26,
      "outputs": []
    },
    {
      "cell_type": "code",
      "source": [
        "tag('br')"
      ],
      "metadata": {
        "colab": {
          "base_uri": "https://localhost:8080/",
          "height": 35
        },
        "id": "AlECRpzDZGIe",
        "outputId": "b61f5a46-07f7-464d-adc8-cf14e010237f"
      },
      "execution_count": 27,
      "outputs": [
        {
          "output_type": "execute_result",
          "data": {
            "text/plain": [
              "'<br />'"
            ],
            "application/vnd.google.colaboratory.intrinsic+json": {
              "type": "string"
            }
          },
          "metadata": {},
          "execution_count": 27
        }
      ]
    },
    {
      "cell_type": "code",
      "source": [
        "tag('p', 'hello')"
      ],
      "metadata": {
        "colab": {
          "base_uri": "https://localhost:8080/",
          "height": 35
        },
        "id": "5NmTtEsSZIZh",
        "outputId": "c933c39a-65db-4824-a438-21c91298efeb"
      },
      "execution_count": 28,
      "outputs": [
        {
          "output_type": "execute_result",
          "data": {
            "text/plain": [
              "'<p>hello</p>'"
            ],
            "application/vnd.google.colaboratory.intrinsic+json": {
              "type": "string"
            }
          },
          "metadata": {},
          "execution_count": 28
        }
      ]
    },
    {
      "cell_type": "code",
      "source": [
        "print(tag('p', 'hello', 'world'))"
      ],
      "metadata": {
        "colab": {
          "base_uri": "https://localhost:8080/"
        },
        "id": "qhW-mpZLZMLR",
        "outputId": "633f7997-a904-4410-e095-9ed7c962ee10"
      },
      "execution_count": 29,
      "outputs": [
        {
          "output_type": "stream",
          "name": "stdout",
          "text": [
            "<p>hello</p>\n",
            "<p>world</p>\n"
          ]
        }
      ]
    },
    {
      "cell_type": "code",
      "source": [
        "tag('p', 'hello', id=33)"
      ],
      "metadata": {
        "colab": {
          "base_uri": "https://localhost:8080/",
          "height": 35
        },
        "id": "KFy5HrAtZQNj",
        "outputId": "8986c037-9f71-423e-b03c-d91fbb9ac149"
      },
      "execution_count": 30,
      "outputs": [
        {
          "output_type": "execute_result",
          "data": {
            "text/plain": [
              "'<p id=\"33\">hello</p>'"
            ],
            "application/vnd.google.colaboratory.intrinsic+json": {
              "type": "string"
            }
          },
          "metadata": {},
          "execution_count": 30
        }
      ]
    },
    {
      "cell_type": "code",
      "source": [
        "print(tag('p', 'hello', 'world', cls='sidebar'))"
      ],
      "metadata": {
        "colab": {
          "base_uri": "https://localhost:8080/"
        },
        "id": "FzytDp0_cDmB",
        "outputId": "8cc34b5a-3235-47e0-f3cc-016bb6325dd5"
      },
      "execution_count": 31,
      "outputs": [
        {
          "output_type": "stream",
          "name": "stdout",
          "text": [
            "<p class=\"sidebar\">hello</p>\n",
            "<p class=\"sidebar\">world</p>\n"
          ]
        }
      ]
    },
    {
      "cell_type": "code",
      "source": [
        "tag(content='testing', name='img')"
      ],
      "metadata": {
        "colab": {
          "base_uri": "https://localhost:8080/",
          "height": 35
        },
        "id": "M0apupmGcJhY",
        "outputId": "ad3b6689-e354-428b-c96c-1979f1d6fd5f"
      },
      "execution_count": 32,
      "outputs": [
        {
          "output_type": "execute_result",
          "data": {
            "text/plain": [
              "'<img content=\"testing\" />'"
            ],
            "application/vnd.google.colaboratory.intrinsic+json": {
              "type": "string"
            }
          },
          "metadata": {},
          "execution_count": 32
        }
      ]
    },
    {
      "cell_type": "code",
      "source": [
        "my_tag = {'name':'img', 'title':'Sunset Boulevard',\n",
        "          'src':'sunset.jpg', 'cls':'framed'}\n",
        "tag(**my_tag) # 명명된 매개변수 외 나머지는 **attrs에 전달"
      ],
      "metadata": {
        "colab": {
          "base_uri": "https://localhost:8080/",
          "height": 35
        },
        "id": "_nQz6-fccPi_",
        "outputId": "9ceb6efb-09e3-46bb-bb14-a4757a24c5c1"
      },
      "execution_count": 33,
      "outputs": [
        {
          "output_type": "execute_result",
          "data": {
            "text/plain": [
              "'<img class=\"framed\" src=\"sunset.jpg\" title=\"Sunset Boulevard\" />'"
            ],
            "application/vnd.google.colaboratory.intrinsic+json": {
              "type": "string"
            }
          },
          "metadata": {},
          "execution_count": 33
        }
      ]
    },
    {
      "cell_type": "code",
      "source": [
        "def f(a, *, b):\n",
        "    return a,b\n",
        "f(1, b=2)"
      ],
      "metadata": {
        "colab": {
          "base_uri": "https://localhost:8080/"
        },
        "id": "tGn_qwb9chwX",
        "outputId": "7a72ad7a-60e6-45f6-ac23-7faec5c28e7d"
      },
      "execution_count": 34,
      "outputs": [
        {
          "output_type": "execute_result",
          "data": {
            "text/plain": [
              "(1, 2)"
            ]
          },
          "metadata": {},
          "execution_count": 34
        }
      ]
    },
    {
      "cell_type": "code",
      "source": [
        "def create_user(name, *, age, is_admin=False):\n",
        "    print(f\"Name: {name}, Age: {age}, Admin: {is_admin}\")\n",
        "\n",
        "create_user(\"Alice\", age=30, is_admin=True) # 올바른 호출\n",
        "create_user(\"Bob\", 25) # TypeError 발생: age 인자가 키워드로 전달되어야 함"
      ],
      "metadata": {
        "colab": {
          "base_uri": "https://localhost:8080/",
          "height": 200
        },
        "id": "Kcc3RNKicl8m",
        "outputId": "05887e95-03ac-410d-89ab-c338ef8e9a56"
      },
      "execution_count": 35,
      "outputs": [
        {
          "output_type": "stream",
          "name": "stdout",
          "text": [
            "Name: Alice, Age: 30, Admin: True\n"
          ]
        },
        {
          "output_type": "error",
          "ename": "TypeError",
          "evalue": "create_user() takes 1 positional argument but 2 were given",
          "traceback": [
            "\u001b[0;31m---------------------------------------------------------------------------\u001b[0m",
            "\u001b[0;31mTypeError\u001b[0m                                 Traceback (most recent call last)",
            "\u001b[0;32m<ipython-input-35-4dd41a06cc9a>\u001b[0m in \u001b[0;36m<cell line: 5>\u001b[0;34m()\u001b[0m\n\u001b[1;32m      3\u001b[0m \u001b[0;34m\u001b[0m\u001b[0m\n\u001b[1;32m      4\u001b[0m \u001b[0mcreate_user\u001b[0m\u001b[0;34m(\u001b[0m\u001b[0;34m\"Alice\"\u001b[0m\u001b[0;34m,\u001b[0m \u001b[0mage\u001b[0m\u001b[0;34m=\u001b[0m\u001b[0;36m30\u001b[0m\u001b[0;34m,\u001b[0m \u001b[0mis_admin\u001b[0m\u001b[0;34m=\u001b[0m\u001b[0;32mTrue\u001b[0m\u001b[0;34m)\u001b[0m \u001b[0;31m# 올바른 호출\u001b[0m\u001b[0;34m\u001b[0m\u001b[0;34m\u001b[0m\u001b[0m\n\u001b[0;32m----> 5\u001b[0;31m \u001b[0mcreate_user\u001b[0m\u001b[0;34m(\u001b[0m\u001b[0;34m\"Bob\"\u001b[0m\u001b[0;34m,\u001b[0m \u001b[0;36m25\u001b[0m\u001b[0;34m)\u001b[0m \u001b[0;31m# TypeError 발생: age 인자가 키워드로 전달되어야 함\u001b[0m\u001b[0;34m\u001b[0m\u001b[0;34m\u001b[0m\u001b[0m\n\u001b[0m",
            "\u001b[0;31mTypeError\u001b[0m: create_user() takes 1 positional argument but 2 were given"
          ]
        }
      ]
    },
    {
      "cell_type": "code",
      "source": [
        "def clip(text, max_len=80):\n",
        "    \"\"\"max_len 앞이나 뒤의 마지막 공백에서 잘라낸 텍스트를 반환한다.\"\"\"\n",
        "\n",
        "    end=None\n",
        "    if len(text) > max_len:\n",
        "        space_before=text.rfind(' ', 0, max_len)\n",
        "        # 0부터 max_len 사이에서 역순으로 ' '를 찾음\n",
        "        if space_before >= 0:\n",
        "            end=space_before\n",
        "        else:\n",
        "            space_after=text.rfind(' ', max_len)\n",
        "            # max_len부터 ' '를 찾음\n",
        "            if space_after >= 0:\n",
        "                end=space_after\n",
        "    if end is None: # 공백이 없다.\n",
        "        end=len(text)\n",
        "    return text[:end].rstrip()"
      ],
      "metadata": {
        "id": "apMamHrlc-ZK"
      },
      "execution_count": 36,
      "outputs": []
    },
    {
      "cell_type": "code",
      "source": [
        "clip.__defaults__"
      ],
      "metadata": {
        "colab": {
          "base_uri": "https://localhost:8080/"
        },
        "id": "IlDBMGDWdT-A",
        "outputId": "d2274391-1473-420a-c33a-104311ee6300"
      },
      "execution_count": 37,
      "outputs": [
        {
          "output_type": "execute_result",
          "data": {
            "text/plain": [
              "(80,)"
            ]
          },
          "metadata": {},
          "execution_count": 37
        }
      ]
    },
    {
      "cell_type": "code",
      "source": [
        "clip.__code__"
      ],
      "metadata": {
        "colab": {
          "base_uri": "https://localhost:8080/"
        },
        "id": "mHhqKClMdWgB",
        "outputId": "2874178a-2013-4914-b232-1831b7cd3aee"
      },
      "execution_count": 38,
      "outputs": [
        {
          "output_type": "execute_result",
          "data": {
            "text/plain": [
              "<code object clip at 0x7eb18ac9d2c0, file \"<ipython-input-36-8e293fe523e2>\", line 1>"
            ]
          },
          "metadata": {},
          "execution_count": 38
        }
      ]
    },
    {
      "cell_type": "code",
      "source": [
        "clip.__code__.co_varnames"
      ],
      "metadata": {
        "colab": {
          "base_uri": "https://localhost:8080/"
        },
        "id": "v6BdElHMdZD2",
        "outputId": "5070938c-9091-4f18-9ca1-64ef0c60021f"
      },
      "execution_count": 39,
      "outputs": [
        {
          "output_type": "execute_result",
          "data": {
            "text/plain": [
              "('text', 'max_len', 'end', 'space_before', 'space_after')"
            ]
          },
          "metadata": {},
          "execution_count": 39
        }
      ]
    },
    {
      "cell_type": "code",
      "source": [
        "clip.__code__.co_argcount"
      ],
      "metadata": {
        "colab": {
          "base_uri": "https://localhost:8080/"
        },
        "id": "QvhXwJ-gdgKG",
        "outputId": "c3fbe2b6-fa4f-4c07-89a5-9ec8c1b50b5b"
      },
      "execution_count": 40,
      "outputs": [
        {
          "output_type": "execute_result",
          "data": {
            "text/plain": [
              "2"
            ]
          },
          "metadata": {},
          "execution_count": 40
        }
      ]
    },
    {
      "cell_type": "code",
      "source": [
        "from inspect import signature\n",
        "sig = signature(clip)\n",
        "sig # doctest: + ELLIPSIS"
      ],
      "metadata": {
        "colab": {
          "base_uri": "https://localhost:8080/"
        },
        "id": "dOIUVUIEdjLX",
        "outputId": "98a03474-fef8-41de-f06b-3104280975f2"
      },
      "execution_count": 41,
      "outputs": [
        {
          "output_type": "execute_result",
          "data": {
            "text/plain": [
              "<Signature (text, max_len=80)>"
            ]
          },
          "metadata": {},
          "execution_count": 41
        }
      ]
    },
    {
      "cell_type": "code",
      "source": [
        "str(sig)"
      ],
      "metadata": {
        "colab": {
          "base_uri": "https://localhost:8080/",
          "height": 35
        },
        "id": "wNigjk3zdpOl",
        "outputId": "f13d1e25-e3c8-4596-c9c9-6011523c8839"
      },
      "execution_count": 42,
      "outputs": [
        {
          "output_type": "execute_result",
          "data": {
            "text/plain": [
              "'(text, max_len=80)'"
            ],
            "application/vnd.google.colaboratory.intrinsic+json": {
              "type": "string"
            }
          },
          "metadata": {},
          "execution_count": 42
        }
      ]
    },
    {
      "cell_type": "code",
      "source": [
        "for name, param in sig.parameters.items():\n",
        "    print(param.kind, \":\", name, \"=\", param.default)"
      ],
      "metadata": {
        "colab": {
          "base_uri": "https://localhost:8080/"
        },
        "id": "QSJgPIAsdq1e",
        "outputId": "af60955a-7ec0-40ec-84c2-5018728f46b7"
      },
      "execution_count": 43,
      "outputs": [
        {
          "output_type": "stream",
          "name": "stdout",
          "text": [
            "POSITIONAL_OR_KEYWORD : text = <class 'inspect._empty'>\n",
            "POSITIONAL_OR_KEYWORD : max_len = 80\n"
          ]
        }
      ]
    },
    {
      "cell_type": "code",
      "source": [
        "from inspect import signature\n",
        "\n",
        "sig = signature(tag)"
      ],
      "metadata": {
        "id": "92yDjyASd4k4"
      },
      "execution_count": 44,
      "outputs": []
    },
    {
      "cell_type": "code",
      "source": [
        "my_tag"
      ],
      "metadata": {
        "colab": {
          "base_uri": "https://localhost:8080/"
        },
        "id": "40z04td1d8mo",
        "outputId": "3fd04f89-e731-4235-d8bc-10ee3b0a8892"
      },
      "execution_count": 45,
      "outputs": [
        {
          "output_type": "execute_result",
          "data": {
            "text/plain": [
              "{'name': 'img',\n",
              " 'title': 'Sunset Boulevard',\n",
              " 'src': 'sunset.jpg',\n",
              " 'cls': 'framed'}"
            ]
          },
          "metadata": {},
          "execution_count": 45
        }
      ]
    },
    {
      "cell_type": "code",
      "source": [
        "bound_args = sig.bind(**my_tag)\n",
        "bound_args"
      ],
      "metadata": {
        "colab": {
          "base_uri": "https://localhost:8080/"
        },
        "id": "u3rUJIsUd-A4",
        "outputId": "4ea867d8-5709-44ff-fbf6-f102dc07636f"
      },
      "execution_count": 46,
      "outputs": [
        {
          "output_type": "execute_result",
          "data": {
            "text/plain": [
              "<BoundArguments (name='img', cls='framed', attrs={'title': 'Sunset Boulevard', 'src': 'sunset.jpg'})>"
            ]
          },
          "metadata": {},
          "execution_count": 46
        }
      ]
    },
    {
      "cell_type": "code",
      "source": [
        "for name, value in bound_args.arguments.items():\n",
        "    print(name, '=', value)"
      ],
      "metadata": {
        "colab": {
          "base_uri": "https://localhost:8080/"
        },
        "id": "IJ-eO2D0eE8s",
        "outputId": "f43f2f5f-1856-4722-dcf8-2713d17932fb"
      },
      "execution_count": 47,
      "outputs": [
        {
          "output_type": "stream",
          "name": "stdout",
          "text": [
            "name = img\n",
            "cls = framed\n",
            "attrs = {'title': 'Sunset Boulevard', 'src': 'sunset.jpg'}\n"
          ]
        }
      ]
    },
    {
      "cell_type": "code",
      "source": [
        "del my_tag['name']"
      ],
      "metadata": {
        "id": "ikpMvHrNeNUH"
      },
      "execution_count": 48,
      "outputs": []
    },
    {
      "cell_type": "code",
      "source": [
        "bound_args = sig.bind(**my_tag)\n",
        "bound_args # 필수 인수인 name이 없으므로 에러가 발생"
      ],
      "metadata": {
        "colab": {
          "base_uri": "https://localhost:8080/",
          "height": 315
        },
        "id": "6ZyvJ4Y-eRPB",
        "outputId": "e7472a84-a77f-40d7-9b90-643c6c2214bb"
      },
      "execution_count": 50,
      "outputs": [
        {
          "output_type": "error",
          "ename": "TypeError",
          "evalue": "missing a required argument: 'name'",
          "traceback": [
            "\u001b[0;31m---------------------------------------------------------------------------\u001b[0m",
            "\u001b[0;31mTypeError\u001b[0m                                 Traceback (most recent call last)",
            "\u001b[0;32m<ipython-input-50-85525b63aae1>\u001b[0m in \u001b[0;36m<cell line: 1>\u001b[0;34m()\u001b[0m\n\u001b[0;32m----> 1\u001b[0;31m \u001b[0mbound_args\u001b[0m \u001b[0;34m=\u001b[0m \u001b[0msig\u001b[0m\u001b[0;34m.\u001b[0m\u001b[0mbind\u001b[0m\u001b[0;34m(\u001b[0m\u001b[0;34m**\u001b[0m\u001b[0mmy_tag\u001b[0m\u001b[0;34m)\u001b[0m\u001b[0;34m\u001b[0m\u001b[0;34m\u001b[0m\u001b[0m\n\u001b[0m\u001b[1;32m      2\u001b[0m \u001b[0mbound_args\u001b[0m \u001b[0;31m# 필수 인수인 name이 없으므로 에러가 발생\u001b[0m\u001b[0;34m\u001b[0m\u001b[0;34m\u001b[0m\u001b[0m\n",
            "\u001b[0;32m/usr/lib/python3.10/inspect.py\u001b[0m in \u001b[0;36mbind\u001b[0;34m(self, *args, **kwargs)\u001b[0m\n\u001b[1;32m   3184\u001b[0m         \u001b[0;32mif\u001b[0m \u001b[0mthe\u001b[0m \u001b[0mpassed\u001b[0m \u001b[0marguments\u001b[0m \u001b[0mcan\u001b[0m \u001b[0;32mnot\u001b[0m \u001b[0mbe\u001b[0m \u001b[0mbound\u001b[0m\u001b[0;34m.\u001b[0m\u001b[0;34m\u001b[0m\u001b[0;34m\u001b[0m\u001b[0m\n\u001b[1;32m   3185\u001b[0m         \"\"\"\n\u001b[0;32m-> 3186\u001b[0;31m         \u001b[0;32mreturn\u001b[0m \u001b[0mself\u001b[0m\u001b[0;34m.\u001b[0m\u001b[0m_bind\u001b[0m\u001b[0;34m(\u001b[0m\u001b[0margs\u001b[0m\u001b[0;34m,\u001b[0m \u001b[0mkwargs\u001b[0m\u001b[0;34m)\u001b[0m\u001b[0;34m\u001b[0m\u001b[0;34m\u001b[0m\u001b[0m\n\u001b[0m\u001b[1;32m   3187\u001b[0m \u001b[0;34m\u001b[0m\u001b[0m\n\u001b[1;32m   3188\u001b[0m     \u001b[0;32mdef\u001b[0m \u001b[0mbind_partial\u001b[0m\u001b[0;34m(\u001b[0m\u001b[0mself\u001b[0m\u001b[0;34m,\u001b[0m \u001b[0;34m/\u001b[0m\u001b[0;34m,\u001b[0m \u001b[0;34m*\u001b[0m\u001b[0margs\u001b[0m\u001b[0;34m,\u001b[0m \u001b[0;34m**\u001b[0m\u001b[0mkwargs\u001b[0m\u001b[0;34m)\u001b[0m\u001b[0;34m:\u001b[0m\u001b[0;34m\u001b[0m\u001b[0;34m\u001b[0m\u001b[0m\n",
            "\u001b[0;32m/usr/lib/python3.10/inspect.py\u001b[0m in \u001b[0;36m_bind\u001b[0;34m(self, args, kwargs, partial)\u001b[0m\n\u001b[1;32m   3099\u001b[0m                             \u001b[0mmsg\u001b[0m \u001b[0;34m=\u001b[0m \u001b[0;34m'missing a required argument: {arg!r}'\u001b[0m\u001b[0;34m\u001b[0m\u001b[0;34m\u001b[0m\u001b[0m\n\u001b[1;32m   3100\u001b[0m                             \u001b[0mmsg\u001b[0m \u001b[0;34m=\u001b[0m \u001b[0mmsg\u001b[0m\u001b[0;34m.\u001b[0m\u001b[0mformat\u001b[0m\u001b[0;34m(\u001b[0m\u001b[0marg\u001b[0m\u001b[0;34m=\u001b[0m\u001b[0mparam\u001b[0m\u001b[0;34m.\u001b[0m\u001b[0mname\u001b[0m\u001b[0;34m)\u001b[0m\u001b[0;34m\u001b[0m\u001b[0;34m\u001b[0m\u001b[0m\n\u001b[0;32m-> 3101\u001b[0;31m                             \u001b[0;32mraise\u001b[0m \u001b[0mTypeError\u001b[0m\u001b[0;34m(\u001b[0m\u001b[0mmsg\u001b[0m\u001b[0;34m)\u001b[0m \u001b[0;32mfrom\u001b[0m \u001b[0;32mNone\u001b[0m\u001b[0;34m\u001b[0m\u001b[0;34m\u001b[0m\u001b[0m\n\u001b[0m\u001b[1;32m   3102\u001b[0m             \u001b[0;32melse\u001b[0m\u001b[0;34m:\u001b[0m\u001b[0;34m\u001b[0m\u001b[0;34m\u001b[0m\u001b[0m\n\u001b[1;32m   3103\u001b[0m                 \u001b[0;31m# We have a positional argument to process\u001b[0m\u001b[0;34m\u001b[0m\u001b[0;34m\u001b[0m\u001b[0m\n",
            "\u001b[0;31mTypeError\u001b[0m: missing a required argument: 'name'"
          ]
        }
      ]
    },
    {
      "cell_type": "code",
      "source": [
        "def clip_fa(text:str, max_len:'int>0'=80) -> str:\n",
        "    \"\"\"max_len 앞이나 뒤의 마지막 공백에서 잘라낸 텍스트를 반환한다.\"\"\"\n",
        "\n",
        "    end=None\n",
        "    if len(text) > max_len:\n",
        "        space_before = text.rfind(' ', 0, max_len)\n",
        "        # 0부터 max_len 사이에서 역순으로 ' '를 찾음\n",
        "        if space_before >= 0:\n",
        "            end=space_before\n",
        "        else:\n",
        "            space_after=text.rfind(' ', max_len)\n",
        "            # max_len부터 ' '를 찾음\n",
        "            if space_after >= 0:\n",
        "                end=space_after\n",
        "\n",
        "    if end is None:\n",
        "        end=len(text)\n",
        "    return text[:end].rstrip()"
      ],
      "metadata": {
        "id": "x91_vSWlfRiT"
      },
      "execution_count": 52,
      "outputs": []
    },
    {
      "cell_type": "code",
      "source": [
        "clip_fa.__annotations__"
      ],
      "metadata": {
        "colab": {
          "base_uri": "https://localhost:8080/"
        },
        "id": "AXD_-Z8ffyYE",
        "outputId": "28f33971-dfa4-4a5f-be32-761f0c48f809"
      },
      "execution_count": 53,
      "outputs": [
        {
          "output_type": "execute_result",
          "data": {
            "text/plain": [
              "{'text': str, 'max_len': 'int>0', 'return': str}"
            ]
          },
          "metadata": {},
          "execution_count": 53
        }
      ]
    },
    {
      "cell_type": "code",
      "source": [
        "clip_fa.__annotations__"
      ],
      "metadata": {
        "colab": {
          "base_uri": "https://localhost:8080/"
        },
        "id": "MGlsV-eAf110",
        "outputId": "1e833e25-5571-4246-ea70-59a8ee25d213"
      },
      "execution_count": 54,
      "outputs": [
        {
          "output_type": "execute_result",
          "data": {
            "text/plain": [
              "{'text': str, 'max_len': 'int>0', 'return': str}"
            ]
          },
          "metadata": {},
          "execution_count": 54
        }
      ]
    },
    {
      "cell_type": "code",
      "source": [
        "sig2 = signature(clip_fa)\n",
        "sig2.return_annotation"
      ],
      "metadata": {
        "colab": {
          "base_uri": "https://localhost:8080/"
        },
        "id": "OyuvXFkuf5Zi",
        "outputId": "e13f3db3-052a-4a13-d98d-d13dfd4cddcf"
      },
      "execution_count": 55,
      "outputs": [
        {
          "output_type": "execute_result",
          "data": {
            "text/plain": [
              "str"
            ]
          },
          "metadata": {},
          "execution_count": 55
        }
      ]
    },
    {
      "cell_type": "code",
      "source": [
        "for param in sig2.parameters.values():\n",
        "    note = repr(param.annotation).ljust(13)\n",
        "    print(note, \":\", param.name, '=', param.default)"
      ],
      "metadata": {
        "colab": {
          "base_uri": "https://localhost:8080/"
        },
        "id": "Rq3ckTv0gAdE",
        "outputId": "0fa7feca-9a4f-42ab-9ae7-ec3132b775e1"
      },
      "execution_count": 56,
      "outputs": [
        {
          "output_type": "stream",
          "name": "stdout",
          "text": [
            "<class 'str'> : text = <class 'inspect._empty'>\n",
            "'int>0'       : max_len = 80\n"
          ]
        }
      ]
    },
    {
      "cell_type": "code",
      "source": [
        "from functools import reduce"
      ],
      "metadata": {
        "id": "S2xbrOk-gM22"
      },
      "execution_count": 57,
      "outputs": []
    },
    {
      "cell_type": "code",
      "source": [
        "def fact(n):\n",
        "    return reduce(lambda a, b: a*b, range(1, n+1))"
      ],
      "metadata": {
        "id": "bshV1yWTgQT8"
      },
      "execution_count": 58,
      "outputs": []
    },
    {
      "cell_type": "code",
      "source": [
        "fact(10)"
      ],
      "metadata": {
        "colab": {
          "base_uri": "https://localhost:8080/"
        },
        "id": "t8i10yV_gXnQ",
        "outputId": "bfa623a9-2c71-49ed-f8cc-bfa8beda469f"
      },
      "execution_count": 59,
      "outputs": [
        {
          "output_type": "execute_result",
          "data": {
            "text/plain": [
              "3628800"
            ]
          },
          "metadata": {},
          "execution_count": 59
        }
      ]
    },
    {
      "cell_type": "code",
      "source": [
        "from operator import mul\n",
        "\n",
        "def fact(n):\n",
        "    return reduce(mul, range(1, n+1))"
      ],
      "metadata": {
        "id": "cSl5Fv3kgaYd"
      },
      "execution_count": 60,
      "outputs": []
    },
    {
      "cell_type": "code",
      "source": [
        "fact(10)"
      ],
      "metadata": {
        "colab": {
          "base_uri": "https://localhost:8080/"
        },
        "id": "Kz0eg1vfgeZ9",
        "outputId": "09e9d8cc-252a-4568-e9f5-6b06da8c1d15"
      },
      "execution_count": 61,
      "outputs": [
        {
          "output_type": "execute_result",
          "data": {
            "text/plain": [
              "3628800"
            ]
          },
          "metadata": {},
          "execution_count": 61
        }
      ]
    },
    {
      "cell_type": "code",
      "source": [
        "metro_data = [\n",
        "    ('Tokyo', 'JP', 36.933, (35.689722, 139.691667)),\n",
        "    ('Delhi NCR', 'IN', 21.935, (28.613889, 77.208889)),\n",
        "    ('Mexico City', 'MX', 20.142, (19.433333, -99.133333)),\n",
        "    ('New York-Newark', 'US', 20.104, (40.808611, -74020386)),\n",
        "    ('Sao Paulo', 'BR', 19.649, (-23.547778, -46.635833)),\n",
        "]"
      ],
      "metadata": {
        "id": "o3w4sz_hggcp"
      },
      "execution_count": 62,
      "outputs": []
    },
    {
      "cell_type": "code",
      "source": [
        "from operator import itemgetter\n",
        "for city in sorted(metro_data, key=itemgetter(1)):\n",
        "    print(city)"
      ],
      "metadata": {
        "colab": {
          "base_uri": "https://localhost:8080/"
        },
        "id": "n6vACRD2g5Hs",
        "outputId": "ccc19b7c-7d2f-4e57-d051-e35595415955"
      },
      "execution_count": 64,
      "outputs": [
        {
          "output_type": "stream",
          "name": "stdout",
          "text": [
            "('Sao Paulo', 'BR', 19.649, (-23.547778, -46.635833))\n",
            "('Delhi NCR', 'IN', 21.935, (28.613889, 77.208889))\n",
            "('Tokyo', 'JP', 36.933, (35.689722, 139.691667))\n",
            "('Mexico City', 'MX', 20.142, (19.433333, -99.133333))\n",
            "('New York-Newark', 'US', 20.104, (40.808611, -74020386))\n"
          ]
        }
      ]
    },
    {
      "cell_type": "code",
      "source": [
        "cc_name = itemgetter(1,0)\n",
        "for city in metro_data:\n",
        "    print(cc_name(city))"
      ],
      "metadata": {
        "colab": {
          "base_uri": "https://localhost:8080/"
        },
        "id": "Zz2zosBWhGNB",
        "outputId": "de1b8ab2-f374-43a0-c8d4-e15e878adb5b"
      },
      "execution_count": 65,
      "outputs": [
        {
          "output_type": "stream",
          "name": "stdout",
          "text": [
            "('JP', 'Tokyo')\n",
            "('IN', 'Delhi NCR')\n",
            "('MX', 'Mexico City')\n",
            "('US', 'New York-Newark')\n",
            "('BR', 'Sao Paulo')\n"
          ]
        }
      ]
    },
    {
      "cell_type": "code",
      "source": [
        "from collections import namedtuple\n",
        "LatLong = namedtuple('LatLong', 'lat long')\n",
        "Metropolis = namedtuple('Metropolis', 'name cc pop coord')\n",
        "metro_areas = [Metropolis(name, cc, pop, LatLong(lat, long))\n",
        "               for name, cc, pop, (lat, long) in metro_data]"
      ],
      "metadata": {
        "id": "RoImkF0zhRZ6"
      },
      "execution_count": 74,
      "outputs": []
    },
    {
      "cell_type": "code",
      "source": [
        "metro_areas[0]"
      ],
      "metadata": {
        "colab": {
          "base_uri": "https://localhost:8080/"
        },
        "id": "TQBIatuthRV8",
        "outputId": "6d1bef6d-591d-4677-b0d5-ed8ba599369c"
      },
      "execution_count": 75,
      "outputs": [
        {
          "output_type": "execute_result",
          "data": {
            "text/plain": [
              "Metropolis(name='Tokyo', cc='JP', pop=36.933, coord=LatLong(lat=35.689722, long=139.691667))"
            ]
          },
          "metadata": {},
          "execution_count": 75
        }
      ]
    },
    {
      "cell_type": "code",
      "source": [
        "metro_areas[0].coord.lat"
      ],
      "metadata": {
        "colab": {
          "base_uri": "https://localhost:8080/"
        },
        "id": "dZ5ug3Tohc2-",
        "outputId": "63fd1d67-ed5b-4414-d0ef-cae7641061da"
      },
      "execution_count": 76,
      "outputs": [
        {
          "output_type": "execute_result",
          "data": {
            "text/plain": [
              "35.689722"
            ]
          },
          "metadata": {},
          "execution_count": 76
        }
      ]
    },
    {
      "cell_type": "code",
      "source": [
        "from operator import attrgetter\n",
        "name_lat = attrgetter('name', 'coord.lat')\n",
        "for city in sorted(metro_areas, key=attrgetter('coord.lat')):\n",
        "    print(name_lat(city))"
      ],
      "metadata": {
        "colab": {
          "base_uri": "https://localhost:8080/"
        },
        "id": "Mju0gs0wheJc",
        "outputId": "6af48c0a-5eb0-4754-b894-6748f255851a"
      },
      "execution_count": 79,
      "outputs": [
        {
          "output_type": "stream",
          "name": "stdout",
          "text": [
            "('Sao Paulo', -23.547778)\n",
            "('Mexico City', 19.433333)\n",
            "('Delhi NCR', 28.613889)\n",
            "('Tokyo', 35.689722)\n",
            "('New York-Newark', 40.808611)\n"
          ]
        }
      ]
    },
    {
      "cell_type": "code",
      "source": [
        "# 뜬금없는 언패킹 연습\n",
        "metro_areas2 = [Metropolis(name, cc, pop, LatLong(*loc))\n",
        "                for name, cc, pop, loc in metro_data]\n",
        "metro_areas2[0]"
      ],
      "metadata": {
        "colab": {
          "base_uri": "https://localhost:8080/"
        },
        "id": "_rC0cRkciP1G",
        "outputId": "fa36d4a6-58dd-4aca-da3c-f4d86808af52"
      },
      "execution_count": 80,
      "outputs": [
        {
          "output_type": "execute_result",
          "data": {
            "text/plain": [
              "Metropolis(name='Tokyo', cc='JP', pop=36.933, coord=LatLong(lat=35.689722, long=139.691667))"
            ]
          },
          "metadata": {},
          "execution_count": 80
        }
      ]
    },
    {
      "cell_type": "code",
      "source": [
        "from operator import methodcaller\n",
        "s = 'The time has come'\n",
        "upcase = methodcaller('upper')"
      ],
      "metadata": {
        "id": "wzMvcA41ifro"
      },
      "execution_count": 81,
      "outputs": []
    },
    {
      "cell_type": "code",
      "source": [
        "upcase(s)"
      ],
      "metadata": {
        "colab": {
          "base_uri": "https://localhost:8080/",
          "height": 35
        },
        "id": "DyIWHWlhil8T",
        "outputId": "34a162b6-c5cd-468d-e275-3a0bcfbf6de2"
      },
      "execution_count": 82,
      "outputs": [
        {
          "output_type": "execute_result",
          "data": {
            "text/plain": [
              "'THE TIME HAS COME'"
            ],
            "application/vnd.google.colaboratory.intrinsic+json": {
              "type": "string"
            }
          },
          "metadata": {},
          "execution_count": 82
        }
      ]
    },
    {
      "cell_type": "code",
      "source": [
        "s.upper()"
      ],
      "metadata": {
        "colab": {
          "base_uri": "https://localhost:8080/",
          "height": 35
        },
        "id": "8vB1_WKxinh8",
        "outputId": "d636a797-23c9-4109-cdd8-e8a3bef0104e"
      },
      "execution_count": 83,
      "outputs": [
        {
          "output_type": "execute_result",
          "data": {
            "text/plain": [
              "'THE TIME HAS COME'"
            ],
            "application/vnd.google.colaboratory.intrinsic+json": {
              "type": "string"
            }
          },
          "metadata": {},
          "execution_count": 83
        }
      ]
    },
    {
      "cell_type": "code",
      "source": [
        "hiphenate = methodcaller('replace', ' ', '-')\n",
        "hiphenate(s)"
      ],
      "metadata": {
        "colab": {
          "base_uri": "https://localhost:8080/",
          "height": 35
        },
        "id": "TG7mOTjFipjH",
        "outputId": "371cb33a-6424-479d-a777-f9b6c0b8700b"
      },
      "execution_count": 84,
      "outputs": [
        {
          "output_type": "execute_result",
          "data": {
            "text/plain": [
              "'The-time-has-come'"
            ],
            "application/vnd.google.colaboratory.intrinsic+json": {
              "type": "string"
            }
          },
          "metadata": {},
          "execution_count": 84
        }
      ]
    },
    {
      "cell_type": "code",
      "source": [
        "from operator import mul\n",
        "from functools import partial\n",
        "triple = partial(mul, 3)\n",
        "triple(7)"
      ],
      "metadata": {
        "colab": {
          "base_uri": "https://localhost:8080/"
        },
        "id": "cOfMQoFYiu6e",
        "outputId": "6f4ae799-f313-4b65-e29b-771ca98cd7e6"
      },
      "execution_count": 85,
      "outputs": [
        {
          "output_type": "execute_result",
          "data": {
            "text/plain": [
              "21"
            ]
          },
          "metadata": {},
          "execution_count": 85
        }
      ]
    },
    {
      "cell_type": "code",
      "source": [
        "list(map(triple, range(1, 10)))"
      ],
      "metadata": {
        "colab": {
          "base_uri": "https://localhost:8080/"
        },
        "id": "u18iE_xEi3y2",
        "outputId": "264daa57-b107-480e-b47b-1b3bd32f53da"
      },
      "execution_count": 86,
      "outputs": [
        {
          "output_type": "execute_result",
          "data": {
            "text/plain": [
              "[3, 6, 9, 12, 15, 18, 21, 24, 27]"
            ]
          },
          "metadata": {},
          "execution_count": 86
        }
      ]
    },
    {
      "cell_type": "code",
      "source": [
        "import unicodedata\n",
        "nfc = partial(unicodedata.normalize, 'NFC')"
      ],
      "metadata": {
        "id": "M9sZ33HXi6cM"
      },
      "execution_count": 87,
      "outputs": []
    },
    {
      "cell_type": "code",
      "source": [
        "s1 = 'café'\n",
        "s2 = 'cafe\\u0301'\n",
        "s1, s2"
      ],
      "metadata": {
        "colab": {
          "base_uri": "https://localhost:8080/"
        },
        "id": "lUG2daLEjBN0",
        "outputId": "f5069c67-43a7-469a-aa7b-cb4a67e013df"
      },
      "execution_count": 88,
      "outputs": [
        {
          "output_type": "execute_result",
          "data": {
            "text/plain": [
              "('café', 'café')"
            ]
          },
          "metadata": {},
          "execution_count": 88
        }
      ]
    },
    {
      "cell_type": "code",
      "source": [
        "s1 == s2, nfc(s1) == nfc(s2)"
      ],
      "metadata": {
        "colab": {
          "base_uri": "https://localhost:8080/"
        },
        "id": "GQlqPwD0jIk7",
        "outputId": "9141e2f8-9e4e-4468-ede4-45ef9ed31e0c"
      },
      "execution_count": 89,
      "outputs": [
        {
          "output_type": "execute_result",
          "data": {
            "text/plain": [
              "(False, True)"
            ]
          },
          "metadata": {},
          "execution_count": 89
        }
      ]
    },
    {
      "cell_type": "code",
      "source": [
        "tag\n",
        "picture = partial(tag, 'img', cls='pic-frame')"
      ],
      "metadata": {
        "id": "VqliryuEjMvb"
      },
      "execution_count": 90,
      "outputs": []
    },
    {
      "cell_type": "code",
      "source": [
        "picture(src='wumpus.jpg')"
      ],
      "metadata": {
        "colab": {
          "base_uri": "https://localhost:8080/",
          "height": 35
        },
        "id": "wAXiDEXJjR0y",
        "outputId": "f44291d5-ed7a-4969-9e16-8e48da57f4f7"
      },
      "execution_count": 91,
      "outputs": [
        {
          "output_type": "execute_result",
          "data": {
            "text/plain": [
              "'<img class=\"pic-frame\" src=\"wumpus.jpg\" />'"
            ],
            "application/vnd.google.colaboratory.intrinsic+json": {
              "type": "string"
            }
          },
          "metadata": {},
          "execution_count": 91
        }
      ]
    },
    {
      "cell_type": "code",
      "source": [
        "tag, picture, picture.func, picture.args, picture.keywords"
      ],
      "metadata": {
        "colab": {
          "base_uri": "https://localhost:8080/"
        },
        "id": "Kvs4ie6BjWBZ",
        "outputId": "6ac821c0-b6c2-4faf-d87e-0ea0bb989b7a"
      },
      "execution_count": 92,
      "outputs": [
        {
          "output_type": "execute_result",
          "data": {
            "text/plain": [
              "(<function __main__.tag(name, *content, cls=None, **attrs)>,\n",
              " functools.partial(<function tag at 0x7eb18ac07e20>, 'img', cls='pic-frame'),\n",
              " <function __main__.tag(name, *content, cls=None, **attrs)>,\n",
              " ('img',),\n",
              " {'cls': 'pic-frame'})"
            ]
          },
          "metadata": {},
          "execution_count": 92
        }
      ]
    }
  ]
}